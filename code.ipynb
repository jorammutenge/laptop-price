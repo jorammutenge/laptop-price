{
 "cells": [
  {
   "cell_type": "markdown",
   "id": "mymE1wE2baSW",
   "metadata": {
    "id": "mymE1wE2baSW"
   },
   "source": [
    "<h2 style=\"text-align: center;\">What features influence the price of the laptop?</h2>\n",
    "<h4 style=\"text-align: center;\"><span style=\"color:#808080\">Joram Mutenge and Noel Thomas</span></h4>\n",
    "<h6 style=\"text-align: center;\"><span style=\"color:#808080\">IS 517</span></h6>"
   ]
  },
  {
   "cell_type": "code",
   "execution_count": 1,
   "id": "5c3d30a3",
   "metadata": {
    "executionInfo": {
     "elapsed": 4069,
     "status": "ok",
     "timestamp": 1670094344811,
     "user": {
      "displayName": "Joram Mutenge",
      "userId": "01047124174484898745"
     },
     "user_tz": 360
    },
    "id": "5c3d30a3"
   },
   "outputs": [],
   "source": [
    "# Importing the libraries\n",
    "import pandas as pd\n",
    "import numpy as np\n",
    "import matplotlib.pyplot as plt\n",
    "plt.style.use('fivethirtyeight')\n",
    "from sklearn.linear_model import LinearRegression\n",
    "from sklearn.model_selection import train_test_split\n",
    "from sklearn.metrics import mean_squared_error, r2_score\n",
    "import statsmodels.api as sm\n",
    "from sklearn.cluster import KMeans\n",
    "from sklearn.metrics import silhouette_score"
   ]
  },
  {
   "cell_type": "markdown",
   "id": "amaTvW0aoQmW",
   "metadata": {
    "id": "amaTvW0aoQmW"
   },
   "source": [
    "## Importing and loading the data"
   ]
  },
  {
   "cell_type": "code",
   "execution_count": 2,
   "id": "87608952",
   "metadata": {
    "colab": {
     "base_uri": "https://localhost:8080/",
     "height": 661
    },
    "executionInfo": {
     "elapsed": 869,
     "status": "ok",
     "timestamp": 1670094942042,
     "user": {
      "displayName": "Joram Mutenge",
      "userId": "01047124174484898745"
     },
     "user_tz": 360
    },
    "id": "87608952",
    "outputId": "74b8c0ff-75d1-4366-a396-aa0c062c32a1"
   },
   "outputs": [
    {
     "data": {
      "text/html": [
       "<div>\n",
       "<style scoped>\n",
       "    .dataframe tbody tr th:only-of-type {\n",
       "        vertical-align: middle;\n",
       "    }\n",
       "\n",
       "    .dataframe tbody tr th {\n",
       "        vertical-align: top;\n",
       "    }\n",
       "\n",
       "    .dataframe thead th {\n",
       "        text-align: right;\n",
       "    }\n",
       "</style>\n",
       "<table border=\"1\" class=\"dataframe\">\n",
       "  <thead>\n",
       "    <tr style=\"text-align: right;\">\n",
       "      <th></th>\n",
       "      <th>brand</th>\n",
       "      <th>model</th>\n",
       "      <th>processor_brand</th>\n",
       "      <th>processor_name</th>\n",
       "      <th>processor_gnrtn</th>\n",
       "      <th>ram_gb</th>\n",
       "      <th>ram_type</th>\n",
       "      <th>ssd</th>\n",
       "      <th>hdd</th>\n",
       "      <th>os</th>\n",
       "      <th>...</th>\n",
       "      <th>display_size</th>\n",
       "      <th>warranty</th>\n",
       "      <th>Touchscreen</th>\n",
       "      <th>msoffice</th>\n",
       "      <th>latest_price</th>\n",
       "      <th>old_price</th>\n",
       "      <th>discount</th>\n",
       "      <th>star_rating</th>\n",
       "      <th>ratings</th>\n",
       "      <th>reviews</th>\n",
       "    </tr>\n",
       "  </thead>\n",
       "  <tbody>\n",
       "    <tr>\n",
       "      <th>0</th>\n",
       "      <td>Lenovo</td>\n",
       "      <td>A6-9225</td>\n",
       "      <td>AMD</td>\n",
       "      <td>A6-9225 Processor</td>\n",
       "      <td>10th</td>\n",
       "      <td>4 GB GB</td>\n",
       "      <td>DDR4</td>\n",
       "      <td>0 GB</td>\n",
       "      <td>1024 GB</td>\n",
       "      <td>Windows</td>\n",
       "      <td>...</td>\n",
       "      <td>Missing</td>\n",
       "      <td>0</td>\n",
       "      <td>No</td>\n",
       "      <td>No</td>\n",
       "      <td>24990</td>\n",
       "      <td>32790</td>\n",
       "      <td>23</td>\n",
       "      <td>3.7</td>\n",
       "      <td>63</td>\n",
       "      <td>12</td>\n",
       "    </tr>\n",
       "    <tr>\n",
       "      <th>1</th>\n",
       "      <td>Lenovo</td>\n",
       "      <td>Ideapad</td>\n",
       "      <td>AMD</td>\n",
       "      <td>APU Dual</td>\n",
       "      <td>10th</td>\n",
       "      <td>4 GB GB</td>\n",
       "      <td>DDR4</td>\n",
       "      <td>0 GB</td>\n",
       "      <td>512 GB</td>\n",
       "      <td>Windows</td>\n",
       "      <td>...</td>\n",
       "      <td>Missing</td>\n",
       "      <td>0</td>\n",
       "      <td>No</td>\n",
       "      <td>No</td>\n",
       "      <td>19590</td>\n",
       "      <td>21325</td>\n",
       "      <td>8</td>\n",
       "      <td>3.6</td>\n",
       "      <td>1894</td>\n",
       "      <td>256</td>\n",
       "    </tr>\n",
       "    <tr>\n",
       "      <th>2</th>\n",
       "      <td>Avita</td>\n",
       "      <td>PURA</td>\n",
       "      <td>AMD</td>\n",
       "      <td>APU Dual</td>\n",
       "      <td>10th</td>\n",
       "      <td>4 GB GB</td>\n",
       "      <td>DDR4</td>\n",
       "      <td>128 GB</td>\n",
       "      <td>0 GB</td>\n",
       "      <td>Windows</td>\n",
       "      <td>...</td>\n",
       "      <td>Missing</td>\n",
       "      <td>0</td>\n",
       "      <td>No</td>\n",
       "      <td>No</td>\n",
       "      <td>19990</td>\n",
       "      <td>27990</td>\n",
       "      <td>28</td>\n",
       "      <td>3.7</td>\n",
       "      <td>1153</td>\n",
       "      <td>159</td>\n",
       "    </tr>\n",
       "    <tr>\n",
       "      <th>3</th>\n",
       "      <td>Avita</td>\n",
       "      <td>PURA</td>\n",
       "      <td>AMD</td>\n",
       "      <td>APU Dual</td>\n",
       "      <td>10th</td>\n",
       "      <td>4 GB GB</td>\n",
       "      <td>DDR4</td>\n",
       "      <td>128 GB</td>\n",
       "      <td>0 GB</td>\n",
       "      <td>Windows</td>\n",
       "      <td>...</td>\n",
       "      <td>Missing</td>\n",
       "      <td>0</td>\n",
       "      <td>No</td>\n",
       "      <td>No</td>\n",
       "      <td>21490</td>\n",
       "      <td>27990</td>\n",
       "      <td>23</td>\n",
       "      <td>3.7</td>\n",
       "      <td>1153</td>\n",
       "      <td>159</td>\n",
       "    </tr>\n",
       "    <tr>\n",
       "      <th>4</th>\n",
       "      <td>Avita</td>\n",
       "      <td>PURA</td>\n",
       "      <td>AMD</td>\n",
       "      <td>APU Dual</td>\n",
       "      <td>10th</td>\n",
       "      <td>4 GB GB</td>\n",
       "      <td>DDR4</td>\n",
       "      <td>256 GB</td>\n",
       "      <td>0 GB</td>\n",
       "      <td>Windows</td>\n",
       "      <td>...</td>\n",
       "      <td>Missing</td>\n",
       "      <td>0</td>\n",
       "      <td>No</td>\n",
       "      <td>No</td>\n",
       "      <td>24990</td>\n",
       "      <td>33490</td>\n",
       "      <td>25</td>\n",
       "      <td>3.7</td>\n",
       "      <td>1657</td>\n",
       "      <td>234</td>\n",
       "    </tr>\n",
       "    <tr>\n",
       "      <th>...</th>\n",
       "      <td>...</td>\n",
       "      <td>...</td>\n",
       "      <td>...</td>\n",
       "      <td>...</td>\n",
       "      <td>...</td>\n",
       "      <td>...</td>\n",
       "      <td>...</td>\n",
       "      <td>...</td>\n",
       "      <td>...</td>\n",
       "      <td>...</td>\n",
       "      <td>...</td>\n",
       "      <td>...</td>\n",
       "      <td>...</td>\n",
       "      <td>...</td>\n",
       "      <td>...</td>\n",
       "      <td>...</td>\n",
       "      <td>...</td>\n",
       "      <td>...</td>\n",
       "      <td>...</td>\n",
       "      <td>...</td>\n",
       "      <td>...</td>\n",
       "    </tr>\n",
       "    <tr>\n",
       "      <th>891</th>\n",
       "      <td>ASUS</td>\n",
       "      <td>ROG</td>\n",
       "      <td>AMD</td>\n",
       "      <td>Ryzen 9</td>\n",
       "      <td>Missing</td>\n",
       "      <td>4 GB GB</td>\n",
       "      <td>DDR4</td>\n",
       "      <td>1024 GB</td>\n",
       "      <td>0 GB</td>\n",
       "      <td>Windows</td>\n",
       "      <td>...</td>\n",
       "      <td>16</td>\n",
       "      <td>1</td>\n",
       "      <td>No</td>\n",
       "      <td>No</td>\n",
       "      <td>144990</td>\n",
       "      <td>194990</td>\n",
       "      <td>25</td>\n",
       "      <td>0.0</td>\n",
       "      <td>0</td>\n",
       "      <td>0</td>\n",
       "    </tr>\n",
       "    <tr>\n",
       "      <th>892</th>\n",
       "      <td>ASUS</td>\n",
       "      <td>Ryzen</td>\n",
       "      <td>AMD</td>\n",
       "      <td>Ryzen 9</td>\n",
       "      <td>Missing</td>\n",
       "      <td>4 GB GB</td>\n",
       "      <td>DDR4</td>\n",
       "      <td>1024 GB</td>\n",
       "      <td>0 GB</td>\n",
       "      <td>Windows</td>\n",
       "      <td>...</td>\n",
       "      <td>Missing</td>\n",
       "      <td>1</td>\n",
       "      <td>No</td>\n",
       "      <td>No</td>\n",
       "      <td>149990</td>\n",
       "      <td>0</td>\n",
       "      <td>0</td>\n",
       "      <td>0.0</td>\n",
       "      <td>0</td>\n",
       "      <td>0</td>\n",
       "    </tr>\n",
       "    <tr>\n",
       "      <th>893</th>\n",
       "      <td>ASUS</td>\n",
       "      <td>Ryzen</td>\n",
       "      <td>AMD</td>\n",
       "      <td>Ryzen 9</td>\n",
       "      <td>Missing</td>\n",
       "      <td>4 GB GB</td>\n",
       "      <td>DDR4</td>\n",
       "      <td>1024 GB</td>\n",
       "      <td>0 GB</td>\n",
       "      <td>Windows</td>\n",
       "      <td>...</td>\n",
       "      <td>16</td>\n",
       "      <td>1</td>\n",
       "      <td>No</td>\n",
       "      <td>No</td>\n",
       "      <td>142990</td>\n",
       "      <td>0</td>\n",
       "      <td>0</td>\n",
       "      <td>0.0</td>\n",
       "      <td>0</td>\n",
       "      <td>0</td>\n",
       "    </tr>\n",
       "    <tr>\n",
       "      <th>894</th>\n",
       "      <td>SAMSUNG</td>\n",
       "      <td>Galaxy</td>\n",
       "      <td>Qualcomm</td>\n",
       "      <td>Snapdragon 7c</td>\n",
       "      <td>Missing</td>\n",
       "      <td>4 GB GB</td>\n",
       "      <td>LPDDR4X</td>\n",
       "      <td>0 GB</td>\n",
       "      <td>512 GB</td>\n",
       "      <td>Windows</td>\n",
       "      <td>...</td>\n",
       "      <td>Missing</td>\n",
       "      <td>0</td>\n",
       "      <td>No</td>\n",
       "      <td>No</td>\n",
       "      <td>38990</td>\n",
       "      <td>47990</td>\n",
       "      <td>18</td>\n",
       "      <td>0.0</td>\n",
       "      <td>0</td>\n",
       "      <td>0</td>\n",
       "    </tr>\n",
       "    <tr>\n",
       "      <th>895</th>\n",
       "      <td>Lenovo</td>\n",
       "      <td>Thinkpad</td>\n",
       "      <td>AMD</td>\n",
       "      <td>Ryzen 5</td>\n",
       "      <td>10th</td>\n",
       "      <td>8 GB GB</td>\n",
       "      <td>DDR4</td>\n",
       "      <td>512 GB</td>\n",
       "      <td>0 GB</td>\n",
       "      <td>DOS</td>\n",
       "      <td>...</td>\n",
       "      <td>14</td>\n",
       "      <td>0</td>\n",
       "      <td>No</td>\n",
       "      <td>No</td>\n",
       "      <td>57490</td>\n",
       "      <td>78400</td>\n",
       "      <td>26</td>\n",
       "      <td>4.2</td>\n",
       "      <td>18</td>\n",
       "      <td>4</td>\n",
       "    </tr>\n",
       "  </tbody>\n",
       "</table>\n",
       "<p>896 rows × 23 columns</p>\n",
       "</div>"
      ],
      "text/plain": [
       "       brand     model processor_brand     processor_name processor_gnrtn  \\\n",
       "0     Lenovo   A6-9225             AMD  A6-9225 Processor            10th   \n",
       "1     Lenovo   Ideapad             AMD           APU Dual            10th   \n",
       "2      Avita      PURA             AMD           APU Dual            10th   \n",
       "3      Avita      PURA             AMD           APU Dual            10th   \n",
       "4      Avita      PURA             AMD           APU Dual            10th   \n",
       "..       ...       ...             ...                ...             ...   \n",
       "891     ASUS       ROG             AMD            Ryzen 9         Missing   \n",
       "892     ASUS     Ryzen             AMD            Ryzen 9         Missing   \n",
       "893     ASUS     Ryzen             AMD            Ryzen 9         Missing   \n",
       "894  SAMSUNG    Galaxy        Qualcomm      Snapdragon 7c         Missing   \n",
       "895   Lenovo  Thinkpad             AMD            Ryzen 5            10th   \n",
       "\n",
       "      ram_gb ram_type      ssd      hdd       os  ... display_size  warranty  \\\n",
       "0    4 GB GB     DDR4     0 GB  1024 GB  Windows  ...      Missing         0   \n",
       "1    4 GB GB     DDR4     0 GB   512 GB  Windows  ...      Missing         0   \n",
       "2    4 GB GB     DDR4   128 GB     0 GB  Windows  ...      Missing         0   \n",
       "3    4 GB GB     DDR4   128 GB     0 GB  Windows  ...      Missing         0   \n",
       "4    4 GB GB     DDR4   256 GB     0 GB  Windows  ...      Missing         0   \n",
       "..       ...      ...      ...      ...      ...  ...          ...       ...   \n",
       "891  4 GB GB     DDR4  1024 GB     0 GB  Windows  ...           16         1   \n",
       "892  4 GB GB     DDR4  1024 GB     0 GB  Windows  ...      Missing         1   \n",
       "893  4 GB GB     DDR4  1024 GB     0 GB  Windows  ...           16         1   \n",
       "894  4 GB GB  LPDDR4X     0 GB   512 GB  Windows  ...      Missing         0   \n",
       "895  8 GB GB     DDR4   512 GB     0 GB      DOS  ...           14         0   \n",
       "\n",
       "    Touchscreen msoffice  latest_price old_price discount  star_rating  \\\n",
       "0            No       No         24990     32790       23          3.7   \n",
       "1            No       No         19590     21325        8          3.6   \n",
       "2            No       No         19990     27990       28          3.7   \n",
       "3            No       No         21490     27990       23          3.7   \n",
       "4            No       No         24990     33490       25          3.7   \n",
       "..          ...      ...           ...       ...      ...          ...   \n",
       "891          No       No        144990    194990       25          0.0   \n",
       "892          No       No        149990         0        0          0.0   \n",
       "893          No       No        142990         0        0          0.0   \n",
       "894          No       No         38990     47990       18          0.0   \n",
       "895          No       No         57490     78400       26          4.2   \n",
       "\n",
       "     ratings  reviews  \n",
       "0         63       12  \n",
       "1       1894      256  \n",
       "2       1153      159  \n",
       "3       1153      159  \n",
       "4       1657      234  \n",
       "..       ...      ...  \n",
       "891        0        0  \n",
       "892        0        0  \n",
       "893        0        0  \n",
       "894        0        0  \n",
       "895       18        4  \n",
       "\n",
       "[896 rows x 23 columns]"
      ]
     },
     "execution_count": 2,
     "metadata": {},
     "output_type": "execute_result"
    }
   ],
   "source": [
    "# Loading the data.\n",
    "data = pd.read_csv('data.csv')\n",
    "data"
   ]
  },
  {
   "cell_type": "markdown",
   "id": "59ADv6NKolTk",
   "metadata": {
    "id": "59ADv6NKolTk"
   },
   "source": [
    "## Exploratory Data Analysis (EDA) and Transformations"
   ]
  },
  {
   "cell_type": "code",
   "execution_count": 3,
   "id": "d7e9ec93",
   "metadata": {
    "colab": {
     "base_uri": "https://localhost:8080/"
    },
    "executionInfo": {
     "elapsed": 13,
     "status": "ok",
     "timestamp": 1670094947359,
     "user": {
      "displayName": "Joram Mutenge",
      "userId": "01047124174484898745"
     },
     "user_tz": 360
    },
    "id": "d7e9ec93",
    "outputId": "ccd47d57-4802-4e5e-e736-f4a171c48130"
   },
   "outputs": [
    {
     "data": {
      "text/plain": [
       "brand               object\n",
       "model               object\n",
       "processor_brand     object\n",
       "processor_name      object\n",
       "processor_gnrtn     object\n",
       "ram_gb              object\n",
       "ram_type            object\n",
       "ssd                 object\n",
       "hdd                 object\n",
       "os                  object\n",
       "os_bit              object\n",
       "graphic_card_gb      int64\n",
       "weight              object\n",
       "display_size        object\n",
       "warranty             int64\n",
       "Touchscreen         object\n",
       "msoffice            object\n",
       "latest_price         int64\n",
       "old_price            int64\n",
       "discount             int64\n",
       "star_rating        float64\n",
       "ratings              int64\n",
       "reviews              int64\n",
       "dtype: object"
      ]
     },
     "execution_count": 3,
     "metadata": {},
     "output_type": "execute_result"
    }
   ],
   "source": [
    "# Check the data types in columns.\n",
    "data.dtypes"
   ]
  },
  {
   "cell_type": "code",
   "execution_count": 4,
   "id": "91227c3e",
   "metadata": {
    "colab": {
     "base_uri": "https://localhost:8080/"
    },
    "executionInfo": {
     "elapsed": 278,
     "status": "ok",
     "timestamp": 1670094948803,
     "user": {
      "displayName": "Joram Mutenge",
      "userId": "01047124174484898745"
     },
     "user_tz": 360
    },
    "id": "91227c3e",
    "outputId": "1ced9f78-88ee-482a-d5a0-604bd2df641e"
   },
   "outputs": [
    {
     "data": {
      "text/plain": [
       "brand              0\n",
       "model              0\n",
       "processor_brand    0\n",
       "processor_name     0\n",
       "processor_gnrtn    0\n",
       "ram_gb             0\n",
       "ram_type           0\n",
       "ssd                0\n",
       "hdd                0\n",
       "os                 0\n",
       "os_bit             0\n",
       "graphic_card_gb    0\n",
       "weight             0\n",
       "display_size       0\n",
       "warranty           0\n",
       "Touchscreen        0\n",
       "msoffice           0\n",
       "latest_price       0\n",
       "old_price          0\n",
       "discount           0\n",
       "star_rating        0\n",
       "ratings            0\n",
       "reviews            0\n",
       "dtype: int64"
      ]
     },
     "execution_count": 4,
     "metadata": {},
     "output_type": "execute_result"
    }
   ],
   "source": [
    "# Check missing values\n",
    "data.isna().sum()"
   ]
  },
  {
   "cell_type": "markdown",
   "id": "wFZlSuDYnpje",
   "metadata": {
    "id": "wFZlSuDYnpje"
   },
   "source": [
    "Although no missing values are shown, some columns like processor_gnrtn had the word ‘missing’ rather than NaN in some rows to indicate missing values. "
   ]
  },
  {
   "cell_type": "code",
   "execution_count": 5,
   "id": "d09acf54",
   "metadata": {
    "colab": {
     "base_uri": "https://localhost:8080/"
    },
    "executionInfo": {
     "elapsed": 15,
     "status": "ok",
     "timestamp": 1670094951826,
     "user": {
      "displayName": "Joram Mutenge",
      "userId": "01047124174484898745"
     },
     "user_tz": 360
    },
    "id": "d09acf54",
    "outputId": "83b115fe-bfd7-4ac1-8283-388543cf7c3c",
    "scrolled": true
   },
   "outputs": [
    {
     "data": {
      "text/plain": [
       "array(['A6-9225', 'Ideapad', 'PURA', 'APU', 'Athlon', 'Aspire',\n",
       "       'ExpertBook', 'Missing', 'v15', 'VivoBook', 'EeeBook', 'Nitro',\n",
       "       'Cosmos', 'x360', 'IdeaPad', 'Celeron', '15q', '250-G6', 'Vostro',\n",
       "       '15', 'Pavilion', 'Book', 'Inspiron', 'INBook', 'ThinkPad',\n",
       "       'Chromebook', 'Commercial', '14s', 'INSPIRON', 'V15', '15s',\n",
       "       '3000', 'Notebook', 'Vivo', 'DA', 'Insprion', 'Travelmate', '14a',\n",
       "       'Predator', 'Spin', 'Swift', 'ROG', 'XPS', 'Omen', 'Surface',\n",
       "       't.book', 'Yoga', 'Gram', 'Spectre', 'VivoBook14', 'TUF',\n",
       "       'Book(Slim)', 'Pro', 'PureBook', 'ASUS', 'Katana', 'GF63',\n",
       "       'Thinkbook', 'Intel', 'G15', 'ZenBook', 'Legion', 'Modern',\n",
       "       'ThinkBook', 'Prestige', 'Zenbook', 'MacBook', 'Sword', 'Envy',\n",
       "       'SE', 'ConceptD', 'HP', 'DELL', 'X390', 'Thinpad', 'Inpiron',\n",
       "       'GAMING', 'GS', '430', 'Liber', 'F17', 'B50-70', 'GE76', 'GP65',\n",
       "       'GP76', '250', '3511', 'G3', 'GS66', 'X1', 'GF65', 'Stealth',\n",
       "       'Zephyrus', 'Summit', 'OMEN', 'Pulse', 'WF65', 'Creator', 'Dual',\n",
       "       'G7', 'CompBook', 'Pentium', 'Extensa', 'Asus', 'Ryzen', 'Bravo',\n",
       "       '15-ec1105AX', 'G5', 'E', 'AMD', 'IDEAPAD', 'Lenovo', 'Alpha',\n",
       "       'Delta', 'Rog', 'Galaxy', 'Thinkpad'], dtype=object)"
      ]
     },
     "execution_count": 5,
     "metadata": {},
     "output_type": "execute_result"
    }
   ],
   "source": [
    "# See the brands present\n",
    "data['model'].unique()"
   ]
  },
  {
   "cell_type": "code",
   "execution_count": 6,
   "id": "26beefa9",
   "metadata": {
    "colab": {
     "base_uri": "https://localhost:8080/"
    },
    "executionInfo": {
     "elapsed": 326,
     "status": "ok",
     "timestamp": 1670094953451,
     "user": {
      "displayName": "Joram Mutenge",
      "userId": "01047124174484898745"
     },
     "user_tz": 360
    },
    "id": "26beefa9",
    "outputId": "fa1669aa-7964-4208-ab14-1f27277377d4"
   },
   "outputs": [
    {
     "data": {
      "text/plain": [
       "ASUS         254\n",
       "DELL         154\n",
       "Lenovo       148\n",
       "HP           142\n",
       "acer          58\n",
       "MSI           52\n",
       "APPLE         28\n",
       "Avita         18\n",
       "Vaio           5\n",
       "LG             5\n",
       "Nokia          4\n",
       "ALIENWARE      4\n",
       "realme         4\n",
       "Infinix        4\n",
       "lenovo         3\n",
       "Smartron       3\n",
       "MICROSOFT      3\n",
       "RedmiBook      3\n",
       "Mi             2\n",
       "iball          1\n",
       "SAMSUNG        1\n",
       "Name: brand, dtype: int64"
      ]
     },
     "execution_count": 6,
     "metadata": {},
     "output_type": "execute_result"
    }
   ],
   "source": [
    "#Check count of brands.\n",
    "data.brand.value_counts(dropna=False)"
   ]
  },
  {
   "cell_type": "code",
   "execution_count": 7,
   "id": "e4a01f7c",
   "metadata": {
    "executionInfo": {
     "elapsed": 10,
     "status": "ok",
     "timestamp": 1670094954729,
     "user": {
      "displayName": "Joram Mutenge",
      "userId": "01047124174484898745"
     },
     "user_tz": 360
    },
    "id": "e4a01f7c"
   },
   "outputs": [],
   "source": [
    "#Rename some columns\n",
    "col_map = {\n",
    "    'processor_gnrtn': 'processor_gen',\n",
    "    'ram_gb': 'ram',\n",
    "    'old_price': 'price'\n",
    "}\n",
    "data = data.rename(columns=col_map)"
   ]
  },
  {
   "cell_type": "code",
   "execution_count": 8,
   "id": "e9a3da1d",
   "metadata": {
    "executionInfo": {
     "elapsed": 4,
     "status": "ok",
     "timestamp": 1670094956309,
     "user": {
      "displayName": "Joram Mutenge",
      "userId": "01047124174484898745"
     },
     "user_tz": 360
    },
    "id": "e9a3da1d"
   },
   "outputs": [],
   "source": [
    "#Clean the dataframe\n",
    "def tweak_data(data):\n",
    "    #Relevant columns\n",
    "    cols = ['processor_gen', 'ram', 'ssd', 'hdd', 'os', 'os_bit', 'graphic_card_gb',\n",
    "           'warranty', 'Touchscreen', 'msoffice', 'price', 'star_rating']\n",
    "    return(data\n",
    "     [cols]\n",
    "     .assign(processor_gen=data.processor_gen.replace('Missing', np.NaN).str.extract(r'(\\d+)+').astype('float16'),\n",
    "             ram=data.ram.str.extract(r'(\\d+)+').astype('int16'),\n",
    "             ssd=data.ssd.str.extract(r'(\\d+)+').astype('int16'),\n",
    "             hdd=data.hdd.str.extract(r'(\\d+)+').astype('int16'),\n",
    "             os_bit=data.os_bit.str.extract(r'(\\d+)+').astype('int16'),\n",
    "            )\n",
    "     .astype({'graphic_card_gb': 'int8', 'warranty': 'int8', 'price': 'int32'})\n",
    "    )\n",
    "df = tweak_data(data)"
   ]
  },
  {
   "cell_type": "markdown",
   "id": "xGmoBQ8wqt2o",
   "metadata": {
    "id": "xGmoBQ8wqt2o"
   },
   "source": [
    "The function above transforms the data frame by selecting the relevant columns. The word ‘missing’ in processor_gen is replaced with NaN and the data type changed to float. For columns ram, ssd, os_bit, and hdd digits are extracted from their row values and the data type changed to integer. The data type of other columns such as graphic_card_gb, warranty, and price is also changed to integer."
   ]
  },
  {
   "cell_type": "code",
   "execution_count": 9,
   "id": "76b11904",
   "metadata": {
    "colab": {
     "base_uri": "https://localhost:8080/",
     "height": 424
    },
    "executionInfo": {
     "elapsed": 288,
     "status": "ok",
     "timestamp": 1670094961148,
     "user": {
      "displayName": "Joram Mutenge",
      "userId": "01047124174484898745"
     },
     "user_tz": 360
    },
    "id": "76b11904",
    "outputId": "aa268d47-c9b9-4d63-ed64-558d86b59d7b"
   },
   "outputs": [
    {
     "data": {
      "text/html": [
       "<div>\n",
       "<style scoped>\n",
       "    .dataframe tbody tr th:only-of-type {\n",
       "        vertical-align: middle;\n",
       "    }\n",
       "\n",
       "    .dataframe tbody tr th {\n",
       "        vertical-align: top;\n",
       "    }\n",
       "\n",
       "    .dataframe thead th {\n",
       "        text-align: right;\n",
       "    }\n",
       "</style>\n",
       "<table border=\"1\" class=\"dataframe\">\n",
       "  <thead>\n",
       "    <tr style=\"text-align: right;\">\n",
       "      <th></th>\n",
       "      <th>processor_gen</th>\n",
       "      <th>ram</th>\n",
       "      <th>ssd</th>\n",
       "      <th>hdd</th>\n",
       "      <th>os</th>\n",
       "      <th>os_bit</th>\n",
       "      <th>graphic_card_gb</th>\n",
       "      <th>warranty</th>\n",
       "      <th>Touchscreen</th>\n",
       "      <th>msoffice</th>\n",
       "      <th>price</th>\n",
       "      <th>star_rating</th>\n",
       "    </tr>\n",
       "  </thead>\n",
       "  <tbody>\n",
       "    <tr>\n",
       "      <th>0</th>\n",
       "      <td>10.0</td>\n",
       "      <td>4</td>\n",
       "      <td>0</td>\n",
       "      <td>1024</td>\n",
       "      <td>Windows</td>\n",
       "      <td>64</td>\n",
       "      <td>0</td>\n",
       "      <td>0</td>\n",
       "      <td>No</td>\n",
       "      <td>No</td>\n",
       "      <td>32790</td>\n",
       "      <td>3.7</td>\n",
       "    </tr>\n",
       "    <tr>\n",
       "      <th>1</th>\n",
       "      <td>10.0</td>\n",
       "      <td>4</td>\n",
       "      <td>0</td>\n",
       "      <td>512</td>\n",
       "      <td>Windows</td>\n",
       "      <td>64</td>\n",
       "      <td>0</td>\n",
       "      <td>0</td>\n",
       "      <td>No</td>\n",
       "      <td>No</td>\n",
       "      <td>21325</td>\n",
       "      <td>3.6</td>\n",
       "    </tr>\n",
       "    <tr>\n",
       "      <th>2</th>\n",
       "      <td>10.0</td>\n",
       "      <td>4</td>\n",
       "      <td>128</td>\n",
       "      <td>0</td>\n",
       "      <td>Windows</td>\n",
       "      <td>64</td>\n",
       "      <td>0</td>\n",
       "      <td>0</td>\n",
       "      <td>No</td>\n",
       "      <td>No</td>\n",
       "      <td>27990</td>\n",
       "      <td>3.7</td>\n",
       "    </tr>\n",
       "    <tr>\n",
       "      <th>3</th>\n",
       "      <td>10.0</td>\n",
       "      <td>4</td>\n",
       "      <td>128</td>\n",
       "      <td>0</td>\n",
       "      <td>Windows</td>\n",
       "      <td>64</td>\n",
       "      <td>0</td>\n",
       "      <td>0</td>\n",
       "      <td>No</td>\n",
       "      <td>No</td>\n",
       "      <td>27990</td>\n",
       "      <td>3.7</td>\n",
       "    </tr>\n",
       "    <tr>\n",
       "      <th>4</th>\n",
       "      <td>10.0</td>\n",
       "      <td>4</td>\n",
       "      <td>256</td>\n",
       "      <td>0</td>\n",
       "      <td>Windows</td>\n",
       "      <td>64</td>\n",
       "      <td>0</td>\n",
       "      <td>0</td>\n",
       "      <td>No</td>\n",
       "      <td>No</td>\n",
       "      <td>33490</td>\n",
       "      <td>3.7</td>\n",
       "    </tr>\n",
       "    <tr>\n",
       "      <th>...</th>\n",
       "      <td>...</td>\n",
       "      <td>...</td>\n",
       "      <td>...</td>\n",
       "      <td>...</td>\n",
       "      <td>...</td>\n",
       "      <td>...</td>\n",
       "      <td>...</td>\n",
       "      <td>...</td>\n",
       "      <td>...</td>\n",
       "      <td>...</td>\n",
       "      <td>...</td>\n",
       "      <td>...</td>\n",
       "    </tr>\n",
       "    <tr>\n",
       "      <th>891</th>\n",
       "      <td>NaN</td>\n",
       "      <td>4</td>\n",
       "      <td>1024</td>\n",
       "      <td>0</td>\n",
       "      <td>Windows</td>\n",
       "      <td>64</td>\n",
       "      <td>0</td>\n",
       "      <td>1</td>\n",
       "      <td>No</td>\n",
       "      <td>No</td>\n",
       "      <td>194990</td>\n",
       "      <td>0.0</td>\n",
       "    </tr>\n",
       "    <tr>\n",
       "      <th>892</th>\n",
       "      <td>NaN</td>\n",
       "      <td>4</td>\n",
       "      <td>1024</td>\n",
       "      <td>0</td>\n",
       "      <td>Windows</td>\n",
       "      <td>64</td>\n",
       "      <td>4</td>\n",
       "      <td>1</td>\n",
       "      <td>No</td>\n",
       "      <td>No</td>\n",
       "      <td>0</td>\n",
       "      <td>0.0</td>\n",
       "    </tr>\n",
       "    <tr>\n",
       "      <th>893</th>\n",
       "      <td>NaN</td>\n",
       "      <td>4</td>\n",
       "      <td>1024</td>\n",
       "      <td>0</td>\n",
       "      <td>Windows</td>\n",
       "      <td>64</td>\n",
       "      <td>4</td>\n",
       "      <td>1</td>\n",
       "      <td>No</td>\n",
       "      <td>No</td>\n",
       "      <td>0</td>\n",
       "      <td>0.0</td>\n",
       "    </tr>\n",
       "    <tr>\n",
       "      <th>894</th>\n",
       "      <td>NaN</td>\n",
       "      <td>4</td>\n",
       "      <td>0</td>\n",
       "      <td>512</td>\n",
       "      <td>Windows</td>\n",
       "      <td>32</td>\n",
       "      <td>0</td>\n",
       "      <td>0</td>\n",
       "      <td>No</td>\n",
       "      <td>No</td>\n",
       "      <td>47990</td>\n",
       "      <td>0.0</td>\n",
       "    </tr>\n",
       "    <tr>\n",
       "      <th>895</th>\n",
       "      <td>10.0</td>\n",
       "      <td>8</td>\n",
       "      <td>512</td>\n",
       "      <td>0</td>\n",
       "      <td>DOS</td>\n",
       "      <td>64</td>\n",
       "      <td>0</td>\n",
       "      <td>0</td>\n",
       "      <td>No</td>\n",
       "      <td>No</td>\n",
       "      <td>78400</td>\n",
       "      <td>4.2</td>\n",
       "    </tr>\n",
       "  </tbody>\n",
       "</table>\n",
       "<p>896 rows × 12 columns</p>\n",
       "</div>"
      ],
      "text/plain": [
       "     processor_gen  ram   ssd   hdd       os  os_bit  graphic_card_gb  \\\n",
       "0             10.0    4     0  1024  Windows      64                0   \n",
       "1             10.0    4     0   512  Windows      64                0   \n",
       "2             10.0    4   128     0  Windows      64                0   \n",
       "3             10.0    4   128     0  Windows      64                0   \n",
       "4             10.0    4   256     0  Windows      64                0   \n",
       "..             ...  ...   ...   ...      ...     ...              ...   \n",
       "891            NaN    4  1024     0  Windows      64                0   \n",
       "892            NaN    4  1024     0  Windows      64                4   \n",
       "893            NaN    4  1024     0  Windows      64                4   \n",
       "894            NaN    4     0   512  Windows      32                0   \n",
       "895           10.0    8   512     0      DOS      64                0   \n",
       "\n",
       "     warranty Touchscreen msoffice   price  star_rating  \n",
       "0           0          No       No   32790          3.7  \n",
       "1           0          No       No   21325          3.6  \n",
       "2           0          No       No   27990          3.7  \n",
       "3           0          No       No   27990          3.7  \n",
       "4           0          No       No   33490          3.7  \n",
       "..        ...         ...      ...     ...          ...  \n",
       "891         1          No       No  194990          0.0  \n",
       "892         1          No       No       0          0.0  \n",
       "893         1          No       No       0          0.0  \n",
       "894         0          No       No   47990          0.0  \n",
       "895         0          No       No   78400          4.2  \n",
       "\n",
       "[896 rows x 12 columns]"
      ]
     },
     "execution_count": 9,
     "metadata": {},
     "output_type": "execute_result"
    }
   ],
   "source": [
    "# View transformed dataframe.\n",
    "df"
   ]
  },
  {
   "cell_type": "code",
   "execution_count": 10,
   "id": "1fa46fe4",
   "metadata": {
    "colab": {
     "base_uri": "https://localhost:8080/",
     "height": 300
    },
    "executionInfo": {
     "elapsed": 411,
     "status": "ok",
     "timestamp": 1670094964108,
     "user": {
      "displayName": "Joram Mutenge",
      "userId": "01047124174484898745"
     },
     "user_tz": 360
    },
    "id": "1fa46fe4",
    "outputId": "73aa39db-0804-4039-9470-97f3309947fa"
   },
   "outputs": [
    {
     "data": {
      "text/html": [
       "<div>\n",
       "<style scoped>\n",
       "    .dataframe tbody tr th:only-of-type {\n",
       "        vertical-align: middle;\n",
       "    }\n",
       "\n",
       "    .dataframe tbody tr th {\n",
       "        vertical-align: top;\n",
       "    }\n",
       "\n",
       "    .dataframe thead th {\n",
       "        text-align: right;\n",
       "    }\n",
       "</style>\n",
       "<table border=\"1\" class=\"dataframe\">\n",
       "  <thead>\n",
       "    <tr style=\"text-align: right;\">\n",
       "      <th></th>\n",
       "      <th>processor_gen</th>\n",
       "      <th>ram</th>\n",
       "      <th>ssd</th>\n",
       "      <th>hdd</th>\n",
       "      <th>os_bit</th>\n",
       "      <th>graphic_card_gb</th>\n",
       "      <th>warranty</th>\n",
       "      <th>price</th>\n",
       "      <th>star_rating</th>\n",
       "    </tr>\n",
       "  </thead>\n",
       "  <tbody>\n",
       "    <tr>\n",
       "      <th>count</th>\n",
       "      <td>657.000000</td>\n",
       "      <td>896.000000</td>\n",
       "      <td>896.000000</td>\n",
       "      <td>896.000000</td>\n",
       "      <td>896.000000</td>\n",
       "      <td>896.000000</td>\n",
       "      <td>896.000000</td>\n",
       "      <td>896.000000</td>\n",
       "      <td>896.000000</td>\n",
       "    </tr>\n",
       "    <tr>\n",
       "      <th>mean</th>\n",
       "      <td>10.328125</td>\n",
       "      <td>8.531250</td>\n",
       "      <td>432.321429</td>\n",
       "      <td>226.857143</td>\n",
       "      <td>59.178571</td>\n",
       "      <td>1.198661</td>\n",
       "      <td>0.691964</td>\n",
       "      <td>88134.154018</td>\n",
       "      <td>2.980469</td>\n",
       "    </tr>\n",
       "    <tr>\n",
       "      <th>std</th>\n",
       "      <td>0.962891</td>\n",
       "      <td>4.376055</td>\n",
       "      <td>316.118420</td>\n",
       "      <td>405.394129</td>\n",
       "      <td>11.453644</td>\n",
       "      <td>2.057454</td>\n",
       "      <td>0.606282</td>\n",
       "      <td>55719.645554</td>\n",
       "      <td>1.965254</td>\n",
       "    </tr>\n",
       "    <tr>\n",
       "      <th>min</th>\n",
       "      <td>4.000000</td>\n",
       "      <td>4.000000</td>\n",
       "      <td>0.000000</td>\n",
       "      <td>0.000000</td>\n",
       "      <td>32.000000</td>\n",
       "      <td>0.000000</td>\n",
       "      <td>0.000000</td>\n",
       "      <td>0.000000</td>\n",
       "      <td>0.000000</td>\n",
       "    </tr>\n",
       "    <tr>\n",
       "      <th>25%</th>\n",
       "      <td>10.000000</td>\n",
       "      <td>4.000000</td>\n",
       "      <td>256.000000</td>\n",
       "      <td>0.000000</td>\n",
       "      <td>64.000000</td>\n",
       "      <td>0.000000</td>\n",
       "      <td>0.000000</td>\n",
       "      <td>54940.500000</td>\n",
       "      <td>0.000000</td>\n",
       "    </tr>\n",
       "    <tr>\n",
       "      <th>50%</th>\n",
       "      <td>11.000000</td>\n",
       "      <td>8.000000</td>\n",
       "      <td>512.000000</td>\n",
       "      <td>0.000000</td>\n",
       "      <td>64.000000</td>\n",
       "      <td>0.000000</td>\n",
       "      <td>1.000000</td>\n",
       "      <td>78052.500000</td>\n",
       "      <td>4.100000</td>\n",
       "    </tr>\n",
       "    <tr>\n",
       "      <th>75%</th>\n",
       "      <td>11.000000</td>\n",
       "      <td>8.000000</td>\n",
       "      <td>512.000000</td>\n",
       "      <td>512.000000</td>\n",
       "      <td>64.000000</td>\n",
       "      <td>2.000000</td>\n",
       "      <td>1.000000</td>\n",
       "      <td>111019.500000</td>\n",
       "      <td>4.400000</td>\n",
       "    </tr>\n",
       "    <tr>\n",
       "      <th>max</th>\n",
       "      <td>12.000000</td>\n",
       "      <td>32.000000</td>\n",
       "      <td>3072.000000</td>\n",
       "      <td>2048.000000</td>\n",
       "      <td>64.000000</td>\n",
       "      <td>8.000000</td>\n",
       "      <td>3.000000</td>\n",
       "      <td>377798.000000</td>\n",
       "      <td>5.000000</td>\n",
       "    </tr>\n",
       "  </tbody>\n",
       "</table>\n",
       "</div>"
      ],
      "text/plain": [
       "       processor_gen         ram          ssd          hdd      os_bit  \\\n",
       "count     657.000000  896.000000   896.000000   896.000000  896.000000   \n",
       "mean       10.328125    8.531250   432.321429   226.857143   59.178571   \n",
       "std         0.962891    4.376055   316.118420   405.394129   11.453644   \n",
       "min         4.000000    4.000000     0.000000     0.000000   32.000000   \n",
       "25%        10.000000    4.000000   256.000000     0.000000   64.000000   \n",
       "50%        11.000000    8.000000   512.000000     0.000000   64.000000   \n",
       "75%        11.000000    8.000000   512.000000   512.000000   64.000000   \n",
       "max        12.000000   32.000000  3072.000000  2048.000000   64.000000   \n",
       "\n",
       "       graphic_card_gb    warranty          price  star_rating  \n",
       "count       896.000000  896.000000     896.000000   896.000000  \n",
       "mean          1.198661    0.691964   88134.154018     2.980469  \n",
       "std           2.057454    0.606282   55719.645554     1.965254  \n",
       "min           0.000000    0.000000       0.000000     0.000000  \n",
       "25%           0.000000    0.000000   54940.500000     0.000000  \n",
       "50%           0.000000    1.000000   78052.500000     4.100000  \n",
       "75%           2.000000    1.000000  111019.500000     4.400000  \n",
       "max           8.000000    3.000000  377798.000000     5.000000  "
      ]
     },
     "execution_count": 10,
     "metadata": {},
     "output_type": "execute_result"
    }
   ],
   "source": [
    "# Show statistics of numerical columns.\n",
    "df.describe()"
   ]
  },
  {
   "cell_type": "code",
   "execution_count": 12,
   "id": "b4d16da9",
   "metadata": {
    "colab": {
     "base_uri": "https://localhost:8080/",
     "height": 332
    },
    "executionInfo": {
     "elapsed": 659,
     "status": "ok",
     "timestamp": 1670094966301,
     "user": {
      "displayName": "Joram Mutenge",
      "userId": "01047124174484898745"
     },
     "user_tz": 360
    },
    "id": "b4d16da9",
    "outputId": "cddb0c1c-4f2f-4a98-fd85-4ab4ae398dfe"
   },
   "outputs": [
    {
     "data": {
      "text/html": [
       "<style type=\"text/css\">\n",
       "#T_befca_row0_col0, #T_befca_row1_col1, #T_befca_row2_col2, #T_befca_row3_col3, #T_befca_row4_col4, #T_befca_row5_col5, #T_befca_row6_col6, #T_befca_row7_col7, #T_befca_row8_col8 {\n",
       "  background-color: #00441b;\n",
       "  color: #f1f1f1;\n",
       "}\n",
       "#T_befca_row0_col1 {\n",
       "  background-color: #c8e9c1;\n",
       "  color: #000000;\n",
       "}\n",
       "#T_befca_row0_col2 {\n",
       "  background-color: #70c274;\n",
       "  color: #000000;\n",
       "}\n",
       "#T_befca_row0_col3, #T_befca_row6_col3 {\n",
       "  background-color: #c0e6b9;\n",
       "  color: #000000;\n",
       "}\n",
       "#T_befca_row0_col4, #T_befca_row3_col8 {\n",
       "  background-color: #dcf2d7;\n",
       "  color: #000000;\n",
       "}\n",
       "#T_befca_row0_col5 {\n",
       "  background-color: #e6f5e1;\n",
       "  color: #000000;\n",
       "}\n",
       "#T_befca_row0_col6, #T_befca_row6_col0 {\n",
       "  background-color: #cbebc5;\n",
       "  color: #000000;\n",
       "}\n",
       "#T_befca_row0_col7 {\n",
       "  background-color: #bde5b6;\n",
       "  color: #000000;\n",
       "}\n",
       "#T_befca_row0_col8 {\n",
       "  background-color: #eaf7e6;\n",
       "  color: #000000;\n",
       "}\n",
       "#T_befca_row1_col0, #T_befca_row7_col0 {\n",
       "  background-color: #ceecc8;\n",
       "  color: #000000;\n",
       "}\n",
       "#T_befca_row1_col2 {\n",
       "  background-color: #43ac5e;\n",
       "  color: #f1f1f1;\n",
       "}\n",
       "#T_befca_row1_col3, #T_befca_row1_col4 {\n",
       "  background-color: #c7e9c0;\n",
       "  color: #000000;\n",
       "}\n",
       "#T_befca_row1_col5 {\n",
       "  background-color: #a4da9e;\n",
       "  color: #000000;\n",
       "}\n",
       "#T_befca_row1_col6 {\n",
       "  background-color: #d3eecd;\n",
       "  color: #000000;\n",
       "}\n",
       "#T_befca_row1_col7, #T_befca_row7_col5 {\n",
       "  background-color: #68be70;\n",
       "  color: #000000;\n",
       "}\n",
       "#T_befca_row1_col8 {\n",
       "  background-color: #edf8ea;\n",
       "  color: #000000;\n",
       "}\n",
       "#T_befca_row2_col0 {\n",
       "  background-color: #b1e0ab;\n",
       "  color: #000000;\n",
       "}\n",
       "#T_befca_row2_col1 {\n",
       "  background-color: #78c679;\n",
       "  color: #000000;\n",
       "}\n",
       "#T_befca_row2_col3, #T_befca_row2_col8, #T_befca_row3_col0, #T_befca_row3_col1, #T_befca_row3_col2, #T_befca_row3_col4, #T_befca_row3_col6, #T_befca_row3_col7, #T_befca_row4_col5 {\n",
       "  background-color: #f7fcf5;\n",
       "  color: #000000;\n",
       "}\n",
       "#T_befca_row2_col4, #T_befca_row5_col3 {\n",
       "  background-color: #aadda4;\n",
       "  color: #000000;\n",
       "}\n",
       "#T_befca_row2_col5 {\n",
       "  background-color: #a2d99c;\n",
       "  color: #000000;\n",
       "}\n",
       "#T_befca_row2_col6 {\n",
       "  background-color: #b7e2b1;\n",
       "  color: #000000;\n",
       "}\n",
       "#T_befca_row2_col7 {\n",
       "  background-color: #4eb264;\n",
       "  color: #f1f1f1;\n",
       "}\n",
       "#T_befca_row3_col5, #T_befca_row5_col8 {\n",
       "  background-color: #e9f7e5;\n",
       "  color: #000000;\n",
       "}\n",
       "#T_befca_row4_col0, #T_befca_row7_col4 {\n",
       "  background-color: #e1f3dc;\n",
       "  color: #000000;\n",
       "}\n",
       "#T_befca_row4_col1, #T_befca_row4_col3 {\n",
       "  background-color: #c6e8bf;\n",
       "  color: #000000;\n",
       "}\n",
       "#T_befca_row4_col2 {\n",
       "  background-color: #6ec173;\n",
       "  color: #000000;\n",
       "}\n",
       "#T_befca_row4_col6 {\n",
       "  background-color: #9fd899;\n",
       "  color: #000000;\n",
       "}\n",
       "#T_befca_row4_col7 {\n",
       "  background-color: #d5efcf;\n",
       "  color: #000000;\n",
       "}\n",
       "#T_befca_row4_col8 {\n",
       "  background-color: #e0f3db;\n",
       "  color: #000000;\n",
       "}\n",
       "#T_befca_row5_col0 {\n",
       "  background-color: #e5f5e1;\n",
       "  color: #000000;\n",
       "}\n",
       "#T_befca_row5_col1 {\n",
       "  background-color: #9ed798;\n",
       "  color: #000000;\n",
       "}\n",
       "#T_befca_row5_col2 {\n",
       "  background-color: #60ba6c;\n",
       "  color: #f1f1f1;\n",
       "}\n",
       "#T_befca_row5_col4 {\n",
       "  background-color: #f3faf0;\n",
       "  color: #000000;\n",
       "}\n",
       "#T_befca_row5_col6, #T_befca_row6_col5 {\n",
       "  background-color: #ebf7e7;\n",
       "  color: #000000;\n",
       "}\n",
       "#T_befca_row5_col7 {\n",
       "  background-color: #58b668;\n",
       "  color: #f1f1f1;\n",
       "}\n",
       "#T_befca_row6_col1 {\n",
       "  background-color: #cdecc7;\n",
       "  color: #000000;\n",
       "}\n",
       "#T_befca_row6_col2 {\n",
       "  background-color: #76c578;\n",
       "  color: #000000;\n",
       "}\n",
       "#T_befca_row6_col4 {\n",
       "  background-color: #99d595;\n",
       "  color: #000000;\n",
       "}\n",
       "#T_befca_row6_col7 {\n",
       "  background-color: #caeac3;\n",
       "  color: #000000;\n",
       "}\n",
       "#T_befca_row6_col8 {\n",
       "  background-color: #d6efd0;\n",
       "  color: #000000;\n",
       "}\n",
       "#T_befca_row7_col1 {\n",
       "  background-color: #73c476;\n",
       "  color: #000000;\n",
       "}\n",
       "#T_befca_row7_col2 {\n",
       "  background-color: #349d53;\n",
       "  color: #f1f1f1;\n",
       "}\n",
       "#T_befca_row7_col3 {\n",
       "  background-color: #d1edcb;\n",
       "  color: #000000;\n",
       "}\n",
       "#T_befca_row7_col6 {\n",
       "  background-color: #dbf1d5;\n",
       "  color: #000000;\n",
       "}\n",
       "#T_befca_row7_col8 {\n",
       "  background-color: #f2faef;\n",
       "  color: #000000;\n",
       "}\n",
       "#T_befca_row8_col0, #T_befca_row8_col5 {\n",
       "  background-color: #e7f6e3;\n",
       "  color: #000000;\n",
       "}\n",
       "#T_befca_row8_col1 {\n",
       "  background-color: #e7f6e2;\n",
       "  color: #000000;\n",
       "}\n",
       "#T_befca_row8_col2 {\n",
       "  background-color: #bbe4b4;\n",
       "  color: #000000;\n",
       "}\n",
       "#T_befca_row8_col3 {\n",
       "  background-color: #97d492;\n",
       "  color: #000000;\n",
       "}\n",
       "#T_befca_row8_col4 {\n",
       "  background-color: #d7efd1;\n",
       "  color: #000000;\n",
       "}\n",
       "#T_befca_row8_col6 {\n",
       "  background-color: #d2edcc;\n",
       "  color: #000000;\n",
       "}\n",
       "#T_befca_row8_col7 {\n",
       "  background-color: #e2f4dd;\n",
       "  color: #000000;\n",
       "}\n",
       "</style>\n",
       "<table id=\"T_befca\">\n",
       "  <thead>\n",
       "    <tr>\n",
       "      <th class=\"blank level0\" >&nbsp;</th>\n",
       "      <th id=\"T_befca_level0_col0\" class=\"col_heading level0 col0\" >processor_gen</th>\n",
       "      <th id=\"T_befca_level0_col1\" class=\"col_heading level0 col1\" >ram</th>\n",
       "      <th id=\"T_befca_level0_col2\" class=\"col_heading level0 col2\" >ssd</th>\n",
       "      <th id=\"T_befca_level0_col3\" class=\"col_heading level0 col3\" >hdd</th>\n",
       "      <th id=\"T_befca_level0_col4\" class=\"col_heading level0 col4\" >os_bit</th>\n",
       "      <th id=\"T_befca_level0_col5\" class=\"col_heading level0 col5\" >graphic_card_gb</th>\n",
       "      <th id=\"T_befca_level0_col6\" class=\"col_heading level0 col6\" >warranty</th>\n",
       "      <th id=\"T_befca_level0_col7\" class=\"col_heading level0 col7\" >price</th>\n",
       "      <th id=\"T_befca_level0_col8\" class=\"col_heading level0 col8\" >star_rating</th>\n",
       "    </tr>\n",
       "  </thead>\n",
       "  <tbody>\n",
       "    <tr>\n",
       "      <th id=\"T_befca_level0_row0\" class=\"row_heading level0 row0\" >processor_gen</th>\n",
       "      <td id=\"T_befca_row0_col0\" class=\"data row0 col0\" >1.000000</td>\n",
       "      <td id=\"T_befca_row0_col1\" class=\"data row0 col1\" >0.110624</td>\n",
       "      <td id=\"T_befca_row0_col2\" class=\"data row0 col2\" >0.226558</td>\n",
       "      <td id=\"T_befca_row0_col3\" class=\"data row0 col3\" >-0.143252</td>\n",
       "      <td id=\"T_befca_row0_col4\" class=\"data row0 col4\" >0.018421</td>\n",
       "      <td id=\"T_befca_row0_col5\" class=\"data row0 col5\" >-0.004779</td>\n",
       "      <td id=\"T_befca_row0_col6\" class=\"data row0 col6\" >0.123125</td>\n",
       "      <td id=\"T_befca_row0_col7\" class=\"data row0 col7\" >0.108406</td>\n",
       "      <td id=\"T_befca_row0_col8\" class=\"data row0 col8\" >-0.017618</td>\n",
       "    </tr>\n",
       "    <tr>\n",
       "      <th id=\"T_befca_level0_row1\" class=\"row_heading level0 row1\" >ram</th>\n",
       "      <td id=\"T_befca_row1_col0\" class=\"data row1 col0\" >0.110624</td>\n",
       "      <td id=\"T_befca_row1_col1\" class=\"data row1 col1\" >1.000000</td>\n",
       "      <td id=\"T_befca_row1_col2\" class=\"data row1 col2\" >0.396407</td>\n",
       "      <td id=\"T_befca_row1_col3\" class=\"data row1 col3\" >-0.180229</td>\n",
       "      <td id=\"T_befca_row1_col4\" class=\"data row1 col4\" >0.122495</td>\n",
       "      <td id=\"T_befca_row1_col5\" class=\"data row1 col5\" >0.275676</td>\n",
       "      <td id=\"T_befca_row1_col6\" class=\"data row1 col6\" >0.087017</td>\n",
       "      <td id=\"T_befca_row1_col7\" class=\"data row1 col7\" >0.413835</td>\n",
       "      <td id=\"T_befca_row1_col8\" class=\"data row1 col8\" >-0.044368</td>\n",
       "    </tr>\n",
       "    <tr>\n",
       "      <th id=\"T_befca_level0_row2\" class=\"row_heading level0 row2\" >ssd</th>\n",
       "      <td id=\"T_befca_row2_col0\" class=\"data row2 col0\" >0.226558</td>\n",
       "      <td id=\"T_befca_row2_col1\" class=\"data row2 col1\" >0.396407</td>\n",
       "      <td id=\"T_befca_row2_col2\" class=\"data row2 col2\" >1.000000</td>\n",
       "      <td id=\"T_befca_row2_col3\" class=\"data row2 col3\" >-0.579884</td>\n",
       "      <td id=\"T_befca_row2_col4\" class=\"data row2 col4\" >0.229685</td>\n",
       "      <td id=\"T_befca_row2_col5\" class=\"data row2 col5\" >0.285320</td>\n",
       "      <td id=\"T_befca_row2_col6\" class=\"data row2 col6\" >0.202927</td>\n",
       "      <td id=\"T_befca_row2_col7\" class=\"data row2 col7\" >0.488710</td>\n",
       "      <td id=\"T_befca_row2_col8\" class=\"data row2 col8\" >-0.119142</td>\n",
       "    </tr>\n",
       "    <tr>\n",
       "      <th id=\"T_befca_level0_row3\" class=\"row_heading level0 row3\" >hdd</th>\n",
       "      <td id=\"T_befca_row3_col0\" class=\"data row3 col0\" >-0.143252</td>\n",
       "      <td id=\"T_befca_row3_col1\" class=\"data row3 col1\" >-0.180229</td>\n",
       "      <td id=\"T_befca_row3_col2\" class=\"data row3 col2\" >-0.579884</td>\n",
       "      <td id=\"T_befca_row3_col3\" class=\"data row3 col3\" >1.000000</td>\n",
       "      <td id=\"T_befca_row3_col4\" class=\"data row3 col4\" >-0.174198</td>\n",
       "      <td id=\"T_befca_row3_col5\" class=\"data row3 col5\" >-0.032831</td>\n",
       "      <td id=\"T_befca_row3_col6\" class=\"data row3 col6\" >-0.143631</td>\n",
       "      <td id=\"T_befca_row3_col7\" class=\"data row3 col7\" >-0.246925</td>\n",
       "      <td id=\"T_befca_row3_col8\" class=\"data row3 col8\" >0.060426</td>\n",
       "    </tr>\n",
       "    <tr>\n",
       "      <th id=\"T_befca_level0_row4\" class=\"row_heading level0 row4\" >os_bit</th>\n",
       "      <td id=\"T_befca_row4_col0\" class=\"data row4 col0\" >0.018421</td>\n",
       "      <td id=\"T_befca_row4_col1\" class=\"data row4 col1\" >0.122495</td>\n",
       "      <td id=\"T_befca_row4_col2\" class=\"data row4 col2\" >0.229685</td>\n",
       "      <td id=\"T_befca_row4_col3\" class=\"data row4 col3\" >-0.174198</td>\n",
       "      <td id=\"T_befca_row4_col4\" class=\"data row4 col4\" >1.000000</td>\n",
       "      <td id=\"T_befca_row4_col5\" class=\"data row4 col5\" >-0.139860</td>\n",
       "      <td id=\"T_befca_row4_col6\" class=\"data row4 col6\" >0.290472</td>\n",
       "      <td id=\"T_befca_row4_col7\" class=\"data row4 col7\" >-0.007944</td>\n",
       "      <td id=\"T_befca_row4_col8\" class=\"data row4 col8\" >0.043147</td>\n",
       "    </tr>\n",
       "    <tr>\n",
       "      <th id=\"T_befca_level0_row5\" class=\"row_heading level0 row5\" >graphic_card_gb</th>\n",
       "      <td id=\"T_befca_row5_col0\" class=\"data row5 col0\" >-0.004779</td>\n",
       "      <td id=\"T_befca_row5_col1\" class=\"data row5 col1\" >0.275676</td>\n",
       "      <td id=\"T_befca_row5_col2\" class=\"data row5 col2\" >0.285320</td>\n",
       "      <td id=\"T_befca_row5_col3\" class=\"data row5 col3\" >-0.032831</td>\n",
       "      <td id=\"T_befca_row5_col4\" class=\"data row5 col4\" >-0.139860</td>\n",
       "      <td id=\"T_befca_row5_col5\" class=\"data row5 col5\" >1.000000</td>\n",
       "      <td id=\"T_befca_row5_col6\" class=\"data row5 col6\" >-0.042251</td>\n",
       "      <td id=\"T_befca_row5_col7\" class=\"data row5 col7\" >0.462580</td>\n",
       "      <td id=\"T_befca_row5_col8\" class=\"data row5 col8\" >-0.013381</td>\n",
       "    </tr>\n",
       "    <tr>\n",
       "      <th id=\"T_befca_level0_row6\" class=\"row_heading level0 row6\" >warranty</th>\n",
       "      <td id=\"T_befca_row6_col0\" class=\"data row6 col0\" >0.123125</td>\n",
       "      <td id=\"T_befca_row6_col1\" class=\"data row6 col1\" >0.087017</td>\n",
       "      <td id=\"T_befca_row6_col2\" class=\"data row6 col2\" >0.202927</td>\n",
       "      <td id=\"T_befca_row6_col3\" class=\"data row6 col3\" >-0.143631</td>\n",
       "      <td id=\"T_befca_row6_col4\" class=\"data row6 col4\" >0.290472</td>\n",
       "      <td id=\"T_befca_row6_col5\" class=\"data row6 col5\" >-0.042251</td>\n",
       "      <td id=\"T_befca_row6_col6\" class=\"data row6 col6\" >1.000000</td>\n",
       "      <td id=\"T_befca_row6_col7\" class=\"data row6 col7\" >0.051954</td>\n",
       "      <td id=\"T_befca_row6_col8\" class=\"data row6 col8\" >0.093033</td>\n",
       "    </tr>\n",
       "    <tr>\n",
       "      <th id=\"T_befca_level0_row7\" class=\"row_heading level0 row7\" >price</th>\n",
       "      <td id=\"T_befca_row7_col0\" class=\"data row7 col0\" >0.108406</td>\n",
       "      <td id=\"T_befca_row7_col1\" class=\"data row7 col1\" >0.413835</td>\n",
       "      <td id=\"T_befca_row7_col2\" class=\"data row7 col2\" >0.488710</td>\n",
       "      <td id=\"T_befca_row7_col3\" class=\"data row7 col3\" >-0.246925</td>\n",
       "      <td id=\"T_befca_row7_col4\" class=\"data row7 col4\" >-0.007944</td>\n",
       "      <td id=\"T_befca_row7_col5\" class=\"data row7 col5\" >0.462580</td>\n",
       "      <td id=\"T_befca_row7_col6\" class=\"data row7 col6\" >0.051954</td>\n",
       "      <td id=\"T_befca_row7_col7\" class=\"data row7 col7\" >1.000000</td>\n",
       "      <td id=\"T_befca_row7_col8\" class=\"data row7 col8\" >-0.075707</td>\n",
       "    </tr>\n",
       "    <tr>\n",
       "      <th id=\"T_befca_level0_row8\" class=\"row_heading level0 row8\" >star_rating</th>\n",
       "      <td id=\"T_befca_row8_col0\" class=\"data row8 col0\" >-0.017618</td>\n",
       "      <td id=\"T_befca_row8_col1\" class=\"data row8 col1\" >-0.044368</td>\n",
       "      <td id=\"T_befca_row8_col2\" class=\"data row8 col2\" >-0.119142</td>\n",
       "      <td id=\"T_befca_row8_col3\" class=\"data row8 col3\" >0.060426</td>\n",
       "      <td id=\"T_befca_row8_col4\" class=\"data row8 col4\" >0.043147</td>\n",
       "      <td id=\"T_befca_row8_col5\" class=\"data row8 col5\" >-0.013381</td>\n",
       "      <td id=\"T_befca_row8_col6\" class=\"data row8 col6\" >0.093033</td>\n",
       "      <td id=\"T_befca_row8_col7\" class=\"data row8 col7\" >-0.075707</td>\n",
       "      <td id=\"T_befca_row8_col8\" class=\"data row8 col8\" >1.000000</td>\n",
       "    </tr>\n",
       "  </tbody>\n",
       "</table>\n"
      ],
      "text/plain": [
       "<pandas.io.formats.style.Styler at 0x20a1e62b100>"
      ]
     },
     "execution_count": 12,
     "metadata": {},
     "output_type": "execute_result"
    }
   ],
   "source": [
    "#Check correlation of other features with price.\n",
    "(df\n",
    " .corr(method='pearson', numeric_only=True)\n",
    " .style.background_gradient(cmap='Greens', axis=0)\n",
    ")"
   ]
  },
  {
   "cell_type": "markdown",
   "id": "zjcN_O74rlbX",
   "metadata": {
    "id": "zjcN_O74rlbX"
   },
   "source": [
    "Columns: ram, ssd, and graphic_crd_gb have a higher correlation with price."
   ]
  },
  {
   "cell_type": "code",
   "execution_count": 13,
   "id": "3f6b6173",
   "metadata": {
    "colab": {
     "base_uri": "https://localhost:8080/",
     "height": 407
    },
    "executionInfo": {
     "elapsed": 247,
     "status": "ok",
     "timestamp": 1670094969498,
     "user": {
      "displayName": "Joram Mutenge",
      "userId": "01047124174484898745"
     },
     "user_tz": 360
    },
    "id": "3f6b6173",
    "outputId": "1a7df955-af42-46d7-bd5c-48b1a64f3016"
   },
   "outputs": [
    {
     "name": "stdout",
     "output_type": "stream",
     "text": [
      "Count for ram size:\n",
      "8     454\n",
      "4     259\n",
      "16    180\n",
      "32      3\n",
      "Name: ram, dtype: int64\n"
     ]
    },
    {
     "data": {
      "image/png": "[encoded data removed]",
      "text/plain": [
       "<Figure size 640x480 with 1 Axes>"
      ]
     },
     "metadata": {},
     "output_type": "display_data"
    }
   ],
   "source": [
    "#Distribution of ram\n",
    "(print(f'Count for ram size:\\n{df.ram.value_counts()}'),\n",
    " df\n",
    " .ram.value_counts()\n",
    " .plot(kind = 'barh', title = 'Distribution of ram')\n",
    ");"
   ]
  },
  {
   "cell_type": "markdown",
   "id": "F4l6NSTYsH2-",
   "metadata": {
    "id": "F4l6NSTYsH2-"
   },
   "source": [
    "More laptops had 8GB RAM. Surprisingly, there were very few 32GB laptops were present."
   ]
  },
  {
   "cell_type": "code",
   "execution_count": 14,
   "id": "PJlByo3VGplM",
   "metadata": {
    "colab": {
     "base_uri": "https://localhost:8080/",
     "height": 477
    },
    "executionInfo": {
     "elapsed": 296,
     "status": "ok",
     "timestamp": 1670094974383,
     "user": {
      "displayName": "Joram Mutenge",
      "userId": "01047124174484898745"
     },
     "user_tz": 360
    },
    "id": "PJlByo3VGplM",
    "outputId": "323f9ad5-8d9d-4ba9-dbb7-bc4631d8bab1"
   },
   "outputs": [
    {
     "name": "stdout",
     "output_type": "stream",
     "text": [
      "Count for ssd size:\n",
      "512     417\n",
      "256     201\n",
      "0       151\n",
      "1024    111\n",
      "128      12\n",
      "2048      2\n",
      "32        1\n",
      "3072      1\n",
      "Name: ssd, dtype: int64\n"
     ]
    },
    {
     "data": {
      "image/png": "[encoded data removed]",
      "text/plain": [
       "<Figure size 640x480 with 1 Axes>"
      ]
     },
     "metadata": {},
     "output_type": "display_data"
    }
   ],
   "source": [
    "#Distribution of Solid State Drive\n",
    "(print(f'Count for ssd size:\\n{df.ssd.value_counts()}'),\n",
    " df\n",
    " .ssd.value_counts()\n",
    " .plot(kind = 'barh', title = 'Distribution of ssd')\n",
    ");"
   ]
  },
  {
   "cell_type": "markdown",
   "id": "EuPiiiNGI0gB",
   "metadata": {
    "id": "EuPiiiNGI0gB"
   },
   "source": [
    "More laptops had 512GB ssd size."
   ]
  },
  {
   "cell_type": "code",
   "execution_count": 15,
   "id": "LJcFZ1JMGor4",
   "metadata": {
    "colab": {
     "base_uri": "https://localhost:8080/",
     "height": 424
    },
    "executionInfo": {
     "elapsed": 423,
     "status": "ok",
     "timestamp": 1670094979221,
     "user": {
      "displayName": "Joram Mutenge",
      "userId": "01047124174484898745"
     },
     "user_tz": 360
    },
    "id": "LJcFZ1JMGor4",
    "outputId": "edfe8ce6-374c-4c76-9cbb-e63a571ed410"
   },
   "outputs": [
    {
     "name": "stdout",
     "output_type": "stream",
     "text": [
      "Count for graphic card size:\n",
      "0    631\n",
      "4    138\n",
      "2     69\n",
      "6     40\n",
      "8     18\n",
      "Name: graphic_card_gb, dtype: int64\n"
     ]
    },
    {
     "data": {
      "image/png": "[encoded data removed]",
      "text/plain": [
       "<Figure size 640x480 with 1 Axes>"
      ]
     },
     "metadata": {},
     "output_type": "display_data"
    }
   ],
   "source": [
    "#Distribution of \n",
    "(print(f'Count for graphic card size:\\n{df.graphic_card_gb .value_counts()}'),\n",
    " df\n",
    " .graphic_card_gb.value_counts()\n",
    " .plot(kind = 'barh', title = 'Distribution of graphic card')\n",
    ");"
   ]
  },
  {
   "cell_type": "markdown",
   "id": "kMjo8KpRI_9K",
   "metadata": {
    "id": "kMjo8KpRI_9K"
   },
   "source": [
    "Many laptops did not have graphic cards."
   ]
  },
  {
   "cell_type": "code",
   "execution_count": 16,
   "id": "00202b03",
   "metadata": {
    "colab": {
     "base_uri": "https://localhost:8080/"
    },
    "executionInfo": {
     "elapsed": 12,
     "status": "ok",
     "timestamp": 1670094981934,
     "user": {
      "displayName": "Joram Mutenge",
      "userId": "01047124174484898745"
     },
     "user_tz": 360
    },
    "id": "00202b03",
    "outputId": "ec814c79-90f7-4107-e89a-067bae016f51"
   },
   "outputs": [
    {
     "data": {
      "text/plain": [
       "processor_gen      0.266741\n",
       "ram                0.000000\n",
       "ssd                0.000000\n",
       "hdd                0.000000\n",
       "os                 0.000000\n",
       "os_bit             0.000000\n",
       "graphic_card_gb    0.000000\n",
       "warranty           0.000000\n",
       "Touchscreen        0.000000\n",
       "msoffice           0.000000\n",
       "price              0.000000\n",
       "star_rating        0.000000\n",
       "dtype: float64"
      ]
     },
     "execution_count": 16,
     "metadata": {},
     "output_type": "execute_result"
    }
   ],
   "source": [
    "#Check percentage of null values for each column\n",
    "(df\n",
    " .isna()\n",
    " .mean()\n",
    ")"
   ]
  },
  {
   "cell_type": "code",
   "execution_count": 17,
   "id": "076919fa",
   "metadata": {
    "executionInfo": {
     "elapsed": 10,
     "status": "ok",
     "timestamp": 1670094983720,
     "user": {
      "displayName": "Joram Mutenge",
      "userId": "01047124174484898745"
     },
     "user_tz": 360
    },
    "id": "076919fa"
   },
   "outputs": [],
   "source": [
    "#Drop columns with more than 25% null values.\n",
    "null_cols = df.columns[df.isna().mean() > .25]\n",
    "df = df.drop(null_cols, axis=1)"
   ]
  },
  {
   "cell_type": "code",
   "execution_count": 18,
   "id": "3f0ac834",
   "metadata": {
    "colab": {
     "base_uri": "https://localhost:8080/"
    },
    "executionInfo": {
     "elapsed": 13,
     "status": "ok",
     "timestamp": 1670094985767,
     "user": {
      "displayName": "Joram Mutenge",
      "userId": "01047124174484898745"
     },
     "user_tz": 360
    },
    "id": "3f0ac834",
    "outputId": "32bc4ac8-f760-41e9-ccf3-83fdd2bcd0b0"
   },
   "outputs": [
    {
     "data": {
      "text/plain": [
       "ram                  int16\n",
       "ssd                  int16\n",
       "hdd                  int16\n",
       "os                  object\n",
       "os_bit               int16\n",
       "graphic_card_gb       int8\n",
       "warranty              int8\n",
       "Touchscreen         object\n",
       "msoffice            object\n",
       "price                int32\n",
       "star_rating        float64\n",
       "dtype: object"
      ]
     },
     "execution_count": 18,
     "metadata": {},
     "output_type": "execute_result"
    }
   ],
   "source": [
    "# See data types when you data frame.\n",
    "df.dtypes"
   ]
  },
  {
   "cell_type": "markdown",
   "id": "ncyWnQggs2OO",
   "metadata": {
    "id": "ncyWnQggs2OO"
   },
   "source": [
    "The column processing_gen was deleted having more than 25% of missing values."
   ]
  },
  {
   "cell_type": "code",
   "execution_count": 19,
   "id": "83339365",
   "metadata": {
    "colab": {
     "base_uri": "https://localhost:8080/"
    },
    "executionInfo": {
     "elapsed": 8,
     "status": "ok",
     "timestamp": 1670094988458,
     "user": {
      "displayName": "Joram Mutenge",
      "userId": "01047124174484898745"
     },
     "user_tz": 360
    },
    "id": "83339365",
    "outputId": "af36ca62-c277-43ed-a4e0-c44d9e610066"
   },
   "outputs": [
    {
     "data": {
      "text/plain": [
       "{'os': 3, 'Touchscreen': 2, 'msoffice': 2}"
      ]
     },
     "execution_count": 19,
     "metadata": {},
     "output_type": "execute_result"
    }
   ],
   "source": [
    "#Map column name with count of unique values for object type\n",
    "{column: len(df[column].unique()) for column in df.columns if df.dtypes[column]=='object'}"
   ]
  },
  {
   "cell_type": "code",
   "execution_count": 20,
   "id": "81b38ee6",
   "metadata": {
    "executionInfo": {
     "elapsed": 7,
     "status": "ok",
     "timestamp": 1670094990073,
     "user": {
      "displayName": "Joram Mutenge",
      "userId": "01047124174484898745"
     },
     "user_tz": 360
    },
    "id": "81b38ee6"
   },
   "outputs": [],
   "source": [
    "# Function to one-hot encode columns.\n",
    "def onehot_encode(df, columns, prefixes):\n",
    "    df = df.copy()\n",
    "    for column, prefix in zip(columns, prefixes):\n",
    "        dummies = pd.get_dummies(df[column], prefix=prefix)\n",
    "        df = pd.concat([df, dummies], axis=1)\n",
    "        df = df.drop(column, axis=1) #drop original col after creating dummies\n",
    "    return df     "
   ]
  },
  {
   "cell_type": "code",
   "execution_count": 21,
   "id": "62f7a8fa",
   "metadata": {
    "executionInfo": {
     "elapsed": 11,
     "status": "ok",
     "timestamp": 1670094991910,
     "user": {
      "displayName": "Joram Mutenge",
      "userId": "01047124174484898745"
     },
     "user_tz": 360
    },
    "id": "62f7a8fa"
   },
   "outputs": [],
   "source": [
    "#Call the function to create the columns.\n",
    "df = onehot_encode(\n",
    "    df,\n",
    "    ['os', 'Touchscreen', 'msoffice'], #columns\n",
    "    ['os', 'touch', 'office']\n",
    ")"
   ]
  },
  {
   "cell_type": "code",
   "execution_count": 22,
   "id": "10ab2c6b",
   "metadata": {
    "colab": {
     "base_uri": "https://localhost:8080/",
     "height": 468
    },
    "executionInfo": {
     "elapsed": 17,
     "status": "ok",
     "timestamp": 1670094993559,
     "user": {
      "displayName": "Joram Mutenge",
      "userId": "01047124174484898745"
     },
     "user_tz": 360
    },
    "id": "10ab2c6b",
    "outputId": "cfa42a16-95cd-4961-a383-9a4eccb76d29"
   },
   "outputs": [
    {
     "data": {
      "text/html": [
       "<div>\n",
       "<style scoped>\n",
       "    .dataframe tbody tr th:only-of-type {\n",
       "        vertical-align: middle;\n",
       "    }\n",
       "\n",
       "    .dataframe tbody tr th {\n",
       "        vertical-align: top;\n",
       "    }\n",
       "\n",
       "    .dataframe thead th {\n",
       "        text-align: right;\n",
       "    }\n",
       "</style>\n",
       "<table border=\"1\" class=\"dataframe\">\n",
       "  <thead>\n",
       "    <tr style=\"text-align: right;\">\n",
       "      <th></th>\n",
       "      <th>ram</th>\n",
       "      <th>ssd</th>\n",
       "      <th>hdd</th>\n",
       "      <th>os_bit</th>\n",
       "      <th>graphic_card_gb</th>\n",
       "      <th>warranty</th>\n",
       "      <th>price</th>\n",
       "      <th>star_rating</th>\n",
       "      <th>os_DOS</th>\n",
       "      <th>os_Mac</th>\n",
       "      <th>os_Windows</th>\n",
       "      <th>touch_No</th>\n",
       "      <th>touch_Yes</th>\n",
       "      <th>office_No</th>\n",
       "      <th>office_Yes</th>\n",
       "    </tr>\n",
       "  </thead>\n",
       "  <tbody>\n",
       "    <tr>\n",
       "      <th>0</th>\n",
       "      <td>4</td>\n",
       "      <td>0</td>\n",
       "      <td>1024</td>\n",
       "      <td>64</td>\n",
       "      <td>0</td>\n",
       "      <td>0</td>\n",
       "      <td>32790</td>\n",
       "      <td>3.7</td>\n",
       "      <td>0</td>\n",
       "      <td>0</td>\n",
       "      <td>1</td>\n",
       "      <td>1</td>\n",
       "      <td>0</td>\n",
       "      <td>1</td>\n",
       "      <td>0</td>\n",
       "    </tr>\n",
       "    <tr>\n",
       "      <th>1</th>\n",
       "      <td>4</td>\n",
       "      <td>0</td>\n",
       "      <td>512</td>\n",
       "      <td>64</td>\n",
       "      <td>0</td>\n",
       "      <td>0</td>\n",
       "      <td>21325</td>\n",
       "      <td>3.6</td>\n",
       "      <td>0</td>\n",
       "      <td>0</td>\n",
       "      <td>1</td>\n",
       "      <td>1</td>\n",
       "      <td>0</td>\n",
       "      <td>1</td>\n",
       "      <td>0</td>\n",
       "    </tr>\n",
       "    <tr>\n",
       "      <th>2</th>\n",
       "      <td>4</td>\n",
       "      <td>128</td>\n",
       "      <td>0</td>\n",
       "      <td>64</td>\n",
       "      <td>0</td>\n",
       "      <td>0</td>\n",
       "      <td>27990</td>\n",
       "      <td>3.7</td>\n",
       "      <td>0</td>\n",
       "      <td>0</td>\n",
       "      <td>1</td>\n",
       "      <td>1</td>\n",
       "      <td>0</td>\n",
       "      <td>1</td>\n",
       "      <td>0</td>\n",
       "    </tr>\n",
       "    <tr>\n",
       "      <th>3</th>\n",
       "      <td>4</td>\n",
       "      <td>128</td>\n",
       "      <td>0</td>\n",
       "      <td>64</td>\n",
       "      <td>0</td>\n",
       "      <td>0</td>\n",
       "      <td>27990</td>\n",
       "      <td>3.7</td>\n",
       "      <td>0</td>\n",
       "      <td>0</td>\n",
       "      <td>1</td>\n",
       "      <td>1</td>\n",
       "      <td>0</td>\n",
       "      <td>1</td>\n",
       "      <td>0</td>\n",
       "    </tr>\n",
       "    <tr>\n",
       "      <th>4</th>\n",
       "      <td>4</td>\n",
       "      <td>256</td>\n",
       "      <td>0</td>\n",
       "      <td>64</td>\n",
       "      <td>0</td>\n",
       "      <td>0</td>\n",
       "      <td>33490</td>\n",
       "      <td>3.7</td>\n",
       "      <td>0</td>\n",
       "      <td>0</td>\n",
       "      <td>1</td>\n",
       "      <td>1</td>\n",
       "      <td>0</td>\n",
       "      <td>1</td>\n",
       "      <td>0</td>\n",
       "    </tr>\n",
       "    <tr>\n",
       "      <th>...</th>\n",
       "      <td>...</td>\n",
       "      <td>...</td>\n",
       "      <td>...</td>\n",
       "      <td>...</td>\n",
       "      <td>...</td>\n",
       "      <td>...</td>\n",
       "      <td>...</td>\n",
       "      <td>...</td>\n",
       "      <td>...</td>\n",
       "      <td>...</td>\n",
       "      <td>...</td>\n",
       "      <td>...</td>\n",
       "      <td>...</td>\n",
       "      <td>...</td>\n",
       "      <td>...</td>\n",
       "    </tr>\n",
       "    <tr>\n",
       "      <th>891</th>\n",
       "      <td>4</td>\n",
       "      <td>1024</td>\n",
       "      <td>0</td>\n",
       "      <td>64</td>\n",
       "      <td>0</td>\n",
       "      <td>1</td>\n",
       "      <td>194990</td>\n",
       "      <td>0.0</td>\n",
       "      <td>0</td>\n",
       "      <td>0</td>\n",
       "      <td>1</td>\n",
       "      <td>1</td>\n",
       "      <td>0</td>\n",
       "      <td>1</td>\n",
       "      <td>0</td>\n",
       "    </tr>\n",
       "    <tr>\n",
       "      <th>892</th>\n",
       "      <td>4</td>\n",
       "      <td>1024</td>\n",
       "      <td>0</td>\n",
       "      <td>64</td>\n",
       "      <td>4</td>\n",
       "      <td>1</td>\n",
       "      <td>0</td>\n",
       "      <td>0.0</td>\n",
       "      <td>0</td>\n",
       "      <td>0</td>\n",
       "      <td>1</td>\n",
       "      <td>1</td>\n",
       "      <td>0</td>\n",
       "      <td>1</td>\n",
       "      <td>0</td>\n",
       "    </tr>\n",
       "    <tr>\n",
       "      <th>893</th>\n",
       "      <td>4</td>\n",
       "      <td>1024</td>\n",
       "      <td>0</td>\n",
       "      <td>64</td>\n",
       "      <td>4</td>\n",
       "      <td>1</td>\n",
       "      <td>0</td>\n",
       "      <td>0.0</td>\n",
       "      <td>0</td>\n",
       "      <td>0</td>\n",
       "      <td>1</td>\n",
       "      <td>1</td>\n",
       "      <td>0</td>\n",
       "      <td>1</td>\n",
       "      <td>0</td>\n",
       "    </tr>\n",
       "    <tr>\n",
       "      <th>894</th>\n",
       "      <td>4</td>\n",
       "      <td>0</td>\n",
       "      <td>512</td>\n",
       "      <td>32</td>\n",
       "      <td>0</td>\n",
       "      <td>0</td>\n",
       "      <td>47990</td>\n",
       "      <td>0.0</td>\n",
       "      <td>0</td>\n",
       "      <td>0</td>\n",
       "      <td>1</td>\n",
       "      <td>1</td>\n",
       "      <td>0</td>\n",
       "      <td>1</td>\n",
       "      <td>0</td>\n",
       "    </tr>\n",
       "    <tr>\n",
       "      <th>895</th>\n",
       "      <td>8</td>\n",
       "      <td>512</td>\n",
       "      <td>0</td>\n",
       "      <td>64</td>\n",
       "      <td>0</td>\n",
       "      <td>0</td>\n",
       "      <td>78400</td>\n",
       "      <td>4.2</td>\n",
       "      <td>1</td>\n",
       "      <td>0</td>\n",
       "      <td>0</td>\n",
       "      <td>1</td>\n",
       "      <td>0</td>\n",
       "      <td>1</td>\n",
       "      <td>0</td>\n",
       "    </tr>\n",
       "  </tbody>\n",
       "</table>\n",
       "<p>896 rows × 15 columns</p>\n",
       "</div>"
      ],
      "text/plain": [
       "     ram   ssd   hdd  os_bit  graphic_card_gb  warranty   price  star_rating  \\\n",
       "0      4     0  1024      64                0         0   32790          3.7   \n",
       "1      4     0   512      64                0         0   21325          3.6   \n",
       "2      4   128     0      64                0         0   27990          3.7   \n",
       "3      4   128     0      64                0         0   27990          3.7   \n",
       "4      4   256     0      64                0         0   33490          3.7   \n",
       "..   ...   ...   ...     ...              ...       ...     ...          ...   \n",
       "891    4  1024     0      64                0         1  194990          0.0   \n",
       "892    4  1024     0      64                4         1       0          0.0   \n",
       "893    4  1024     0      64                4         1       0          0.0   \n",
       "894    4     0   512      32                0         0   47990          0.0   \n",
       "895    8   512     0      64                0         0   78400          4.2   \n",
       "\n",
       "     os_DOS  os_Mac  os_Windows  touch_No  touch_Yes  office_No  office_Yes  \n",
       "0         0       0           1         1          0          1           0  \n",
       "1         0       0           1         1          0          1           0  \n",
       "2         0       0           1         1          0          1           0  \n",
       "3         0       0           1         1          0          1           0  \n",
       "4         0       0           1         1          0          1           0  \n",
       "..      ...     ...         ...       ...        ...        ...         ...  \n",
       "891       0       0           1         1          0          1           0  \n",
       "892       0       0           1         1          0          1           0  \n",
       "893       0       0           1         1          0          1           0  \n",
       "894       0       0           1         1          0          1           0  \n",
       "895       1       0           0         1          0          1           0  \n",
       "\n",
       "[896 rows x 15 columns]"
      ]
     },
     "execution_count": 22,
     "metadata": {},
     "output_type": "execute_result"
    }
   ],
   "source": [
    "# View final dataframe\n",
    "df"
   ]
  },
  {
   "cell_type": "markdown",
   "id": "LDPP5lBZsVdC",
   "metadata": {
    "id": "LDPP5lBZsVdC"
   },
   "source": [
    "### Multiple Linear Regression (using statsmodels):"
   ]
  },
  {
   "cell_type": "markdown",
   "id": "iKNvNqNkvUoZ",
   "metadata": {
    "id": "iKNvNqNkvUoZ"
   },
   "source": [
    "We used the statsmodels package to run Multiple Linear Regression."
   ]
  },
  {
   "cell_type": "code",
   "execution_count": 23,
   "id": "WbaUe10mu8SD",
   "metadata": {
    "executionInfo": {
     "elapsed": 9,
     "status": "ok",
     "timestamp": 1670094999486,
     "user": {
      "displayName": "Joram Mutenge",
      "userId": "01047124174484898745"
     },
     "user_tz": 360
    },
    "id": "WbaUe10mu8SD"
   },
   "outputs": [],
   "source": [
    "X = df[['ram', 'ssd', 'hdd', 'os_bit', 'graphic_card_gb', 'warranty',\n",
    "       'star_rating', 'os_DOS', 'os_Mac', 'os_Windows', 'touch_No',\n",
    "       'touch_Yes', 'office_No', 'office_Yes']]\n",
    "\n",
    "y = df['price']"
   ]
  },
  {
   "cell_type": "code",
   "execution_count": 24,
   "id": "pBUL5Hr5vA1C",
   "metadata": {
    "executionInfo": {
     "elapsed": 3,
     "status": "ok",
     "timestamp": 1670095001522,
     "user": {
      "displayName": "Joram Mutenge",
      "userId": "01047124174484898745"
     },
     "user_tz": 360
    },
    "id": "pBUL5Hr5vA1C"
   },
   "outputs": [],
   "source": [
    "X_train, X_test, y_train, y_test = train_test_split(X, y, train_size=0.7 , random_state=100)"
   ]
  },
  {
   "cell_type": "code",
   "execution_count": 25,
   "id": "X1H5KvxqenPw",
   "metadata": {
    "colab": {
     "base_uri": "https://localhost:8080/"
    },
    "executionInfo": {
     "elapsed": 14,
     "status": "ok",
     "timestamp": 1670095003893,
     "user": {
      "displayName": "Joram Mutenge",
      "userId": "01047124174484898745"
     },
     "user_tz": 360
    },
    "id": "X1H5KvxqenPw",
    "outputId": "50c1c055-430b-43ba-c26c-a886c45f7b7c"
   },
   "outputs": [
    {
     "data": {
      "text/plain": [
       "const              45271.983591\n",
       "ram                 1962.221886\n",
       "ssd                   49.505373\n",
       "hdd                   -1.910922\n",
       "os_bit                11.790182\n",
       "graphic_card_gb     9690.291527\n",
       "warranty           -3848.429690\n",
       "star_rating        -2016.309278\n",
       "os_DOS             17912.371033\n",
       "os_Mac             58152.889184\n",
       "os_Windows        -30793.276626\n",
       "touch_No            2127.467304\n",
       "touch_Yes          43144.516287\n",
       "office_No          20200.575059\n",
       "office_Yes         25071.408532\n",
       "dtype: float64"
      ]
     },
     "execution_count": 25,
     "metadata": {},
     "output_type": "execute_result"
    }
   ],
   "source": [
    "X_train_sm = X_train \n",
    "X_train_sm = sm.add_constant(X_train_sm)\n",
    "\n",
    "lm_1 = sm.OLS(y_train,X_train_sm).fit()\n",
    "\n",
    "# print the coefficients\n",
    "lm_1.params"
   ]
  },
  {
   "cell_type": "code",
   "execution_count": 26,
   "id": "N2kOOMxEe09H",
   "metadata": {
    "colab": {
     "base_uri": "https://localhost:8080/"
    },
    "executionInfo": {
     "elapsed": 267,
     "status": "ok",
     "timestamp": 1670095006114,
     "user": {
      "displayName": "Joram Mutenge",
      "userId": "01047124174484898745"
     },
     "user_tz": 360
    },
    "id": "N2kOOMxEe09H",
    "outputId": "e0caac98-886b-4390-dae3-55fdf38776ba"
   },
   "outputs": [
    {
     "name": "stdout",
     "output_type": "stream",
     "text": [
      "                            OLS Regression Results                            \n",
      "==============================================================================\n",
      "Dep. Variable:                  price   R-squared:                       0.511\n",
      "Model:                            OLS   Adj. R-squared:                  0.502\n",
      "Method:                 Least Squares   F-statistic:                     58.37\n",
      "Date:                Thu, 16 Mar 2023   Prob (F-statistic):           5.15e-88\n",
      "Time:                        14:15:31   Log-Likelihood:                -7536.3\n",
      "No. Observations:                 627   AIC:                         1.510e+04\n",
      "Df Residuals:                     615   BIC:                         1.515e+04\n",
      "Df Model:                          11                                         \n",
      "Covariance Type:            nonrobust                                         \n",
      "===================================================================================\n",
      "                      coef    std err          t      P>|t|      [0.025      0.975]\n",
      "-----------------------------------------------------------------------------------\n",
      "const            4.527e+04   4772.493      9.486      0.000    3.59e+04    5.46e+04\n",
      "ram              1962.2219    415.669      4.721      0.000    1145.919    2778.524\n",
      "ssd                49.5054      7.184      6.891      0.000      35.398      63.613\n",
      "hdd                -1.9109      4.979     -0.384      0.701     -11.689       7.867\n",
      "os_bit             11.7902    159.597      0.074      0.941    -301.632     325.212\n",
      "graphic_card_gb  9690.2915    971.232      9.977      0.000    7782.958    1.16e+04\n",
      "warranty        -3848.4297   3159.568     -1.218      0.224   -1.01e+04    2356.422\n",
      "star_rating     -2016.3093    874.752     -2.305      0.021   -3734.172    -298.447\n",
      "os_DOS           1.791e+04   8125.279      2.205      0.028    1955.713    3.39e+04\n",
      "os_Mac           5.815e+04   8140.767      7.143      0.000    4.22e+04    7.41e+04\n",
      "os_Windows      -3.079e+04   4638.948     -6.638      0.000   -3.99e+04   -2.17e+04\n",
      "touch_No         2127.4673   3163.380      0.673      0.501   -4084.870    8339.804\n",
      "touch_Yes        4.314e+04   4102.728     10.516      0.000    3.51e+04    5.12e+04\n",
      "office_No         2.02e+04   2729.383      7.401      0.000    1.48e+04    2.56e+04\n",
      "office_Yes       2.507e+04   3543.869      7.075      0.000    1.81e+04     3.2e+04\n",
      "==============================================================================\n",
      "Omnibus:                      114.131   Durbin-Watson:                   1.987\n",
      "Prob(Omnibus):                  0.000   Jarque-Bera (JB):             1857.743\n",
      "Skew:                          -0.202   Prob(JB):                         0.00\n",
      "Kurtosis:                      11.423   Cond. No.                     5.91e+18\n",
      "==============================================================================\n",
      "\n",
      "Notes:\n",
      "[1] Standard Errors assume that the covariance matrix of the errors is correctly specified.\n",
      "[2] The smallest eigenvalue is 5.47e-30. This might indicate that there are\n",
      "strong multicollinearity problems or that the design matrix is singular.\n"
     ]
    }
   ],
   "source": [
    "print(lm_1.summary())"
   ]
  },
  {
   "cell_type": "markdown",
   "id": "JiqEpb_iv0d_",
   "metadata": {
    "id": "JiqEpb_iv0d_"
   },
   "source": [
    "We can see that for every 1 unit increase in RAM, there is a 1962 unit increase in the price of a laptop."
   ]
  },
  {
   "cell_type": "markdown",
   "id": "edlzufvuwCXD",
   "metadata": {
    "id": "edlzufvuwCXD"
   },
   "source": [
    "Since the Adj. R-Squared values are not high, we tried to remove the variables with high P-values and run the model again."
   ]
  },
  {
   "cell_type": "code",
   "execution_count": 27,
   "id": "llPlrPSde47y",
   "metadata": {
    "colab": {
     "base_uri": "https://localhost:8080/"
    },
    "executionInfo": {
     "elapsed": 513,
     "status": "ok",
     "timestamp": 1670095015869,
     "user": {
      "displayName": "Joram Mutenge",
      "userId": "01047124174484898745"
     },
     "user_tz": 360
    },
    "id": "llPlrPSde47y",
    "outputId": "3cdffa87-5daf-47cc-993e-0775e9ad56d5"
   },
   "outputs": [
    {
     "name": "stdout",
     "output_type": "stream",
     "text": [
      "                            OLS Regression Results                            \n",
      "==============================================================================\n",
      "Dep. Variable:                  price   R-squared:                       0.509\n",
      "Model:                            OLS   Adj. R-squared:                  0.503\n",
      "Method:                 Least Squares   F-statistic:                     80.23\n",
      "Date:                Thu, 16 Mar 2023   Prob (F-statistic):           1.74e-90\n",
      "Time:                        14:15:37   Log-Likelihood:                -7537.1\n",
      "No. Observations:                 627   AIC:                         1.509e+04\n",
      "Df Residuals:                     618   BIC:                         1.513e+04\n",
      "Df Model:                           8                                         \n",
      "Covariance Type:            nonrobust                                         \n",
      "===================================================================================\n",
      "                      coef    std err          t      P>|t|      [0.025      0.975]\n",
      "-----------------------------------------------------------------------------------\n",
      "const            4.487e+04   3779.690     11.871      0.000    3.74e+04    5.23e+04\n",
      "ram              1986.4338    412.958      4.810      0.000    1175.463    2797.405\n",
      "ssd                50.3559      6.025      8.358      0.000      38.524      62.188\n",
      "graphic_card_gb  9527.1753    950.159     10.027      0.000    7661.244    1.14e+04\n",
      "star_rating     -2076.3825    871.123     -2.384      0.017   -3787.103    -365.662\n",
      "os_DOS           1.973e+04   7997.902      2.466      0.014    4019.467    3.54e+04\n",
      "os_Mac           5.619e+04   7573.708      7.419      0.000    4.13e+04    7.11e+04\n",
      "os_Windows      -3.105e+04   3806.874     -8.157      0.000   -3.85e+04   -2.36e+04\n",
      "touch_Yes        4.015e+04   5476.878      7.331      0.000    2.94e+04    5.09e+04\n",
      "office_No        2.109e+04   2177.503      9.686      0.000    1.68e+04    2.54e+04\n",
      "office_Yes       2.378e+04   3040.532      7.820      0.000    1.78e+04    2.97e+04\n",
      "==============================================================================\n",
      "Omnibus:                      116.178   Durbin-Watson:                   1.992\n",
      "Prob(Omnibus):                  0.000   Jarque-Bera (JB):             1965.712\n",
      "Skew:                          -0.205   Prob(JB):                         0.00\n",
      "Kurtosis:                      11.665   Cond. No.                     3.40e+18\n",
      "==============================================================================\n",
      "\n",
      "Notes:\n",
      "[1] Standard Errors assume that the covariance matrix of the errors is correctly specified.\n",
      "[2] The smallest eigenvalue is 1.61e-29. This might indicate that there are\n",
      "strong multicollinearity problems or that the design matrix is singular.\n"
     ]
    }
   ],
   "source": [
    "X = df[['ram', 'ssd',  'graphic_card_gb',\n",
    "       'star_rating', 'os_DOS', 'os_Mac', 'os_Windows',\n",
    "       'touch_Yes', 'office_No', 'office_Yes']]\n",
    "\n",
    "X_train_sm, X_test, y_train, y_test = train_test_split(X, y, train_size=0.7 , random_state=100)\n",
    " \n",
    "X_train_sm = sm.add_constant(X_train_sm)\n",
    "\n",
    "lm_2 = sm.OLS(y_train,X_train_sm).fit()\n",
    "\n",
    "print(lm_2.summary())"
   ]
  },
  {
   "cell_type": "markdown",
   "id": "uLSoAr63wptw",
   "metadata": {
    "id": "uLSoAr63wptw"
   },
   "source": [
    "The Adj. R-Squared value for the new model is 0.503 (which is not much of an improvement). This model was accepted to study the relationship between the independent variables and the dependent variables."
   ]
  },
  {
   "cell_type": "markdown",
   "id": "3h1gwNvdwpxG",
   "metadata": {
    "id": "3h1gwNvdwpxG"
   },
   "source": [
    "### K-Means Clustering"
   ]
  },
  {
   "cell_type": "markdown",
   "id": "X5oi_SZQxDbh",
   "metadata": {
    "id": "X5oi_SZQxDbh"
   },
   "source": [
    "We selected the number of clusters by plotting the silhouette scores and the Scree plot."
   ]
  },
  {
   "cell_type": "code",
   "execution_count": 28,
   "id": "d4tvOVkKZkB4",
   "metadata": {
    "colab": {
     "base_uri": "https://localhost:8080/",
     "height": 603
    },
    "executionInfo": {
     "elapsed": 8841,
     "status": "ok",
     "timestamp": 1670095045293,
     "user": {
      "displayName": "Joram Mutenge",
      "userId": "01047124174484898745"
     },
     "user_tz": 360
    },
    "id": "d4tvOVkKZkB4",
    "outputId": "78a45060-5cb1-40f9-bc1f-34f3512922e3"
   },
   "outputs": [
    {
     "name": "stdout",
     "output_type": "stream",
     "text": [
      "Overall Average Silhouette Score:0.6149 for 2 clusters\n",
      "Overall Average Silhouette Score:0.5382 for 3 clusters\n",
      "Overall Average Silhouette Score:0.5154 for 4 clusters\n",
      "Overall Average Silhouette Score:0.5403 for 5 clusters\n",
      "Overall Average Silhouette Score:0.5666 for 6 clusters\n",
      "Overall Average Silhouette Score:0.5744 for 7 clusters\n",
      "Overall Average Silhouette Score:0.5753 for 8 clusters\n",
      "Overall Average Silhouette Score:0.5624 for 9 clusters\n",
      "Overall Average Silhouette Score:0.5635 for 10 clusters\n",
      "Overall Average Silhouette Score:0.5470 for 11 clusters\n",
      "Overall Average Silhouette Score:0.5602 for 12 clusters\n",
      "Overall Average Silhouette Score:0.5633 for 13 clusters\n",
      "Overall Average Silhouette Score:0.5635 for 14 clusters\n",
      "Overall Average Silhouette Score:0.5769 for 15 clusters\n",
      "Overall Average Silhouette Score:0.5699 for 16 clusters\n",
      "\n"
     ]
    },
    {
     "data": {
      "image/png": "[encoded data removed]",
      "text/plain": [
       "<Figure size 640x480 with 1 Axes>"
      ]
     },
     "metadata": {},
     "output_type": "display_data"
    }
   ],
   "source": [
    "wcss = []\n",
    "sh_score = []\n",
    "for i in range(2, 17):\n",
    "    kmeans = KMeans(n_clusters=i, init='k-means++', max_iter=300, n_init=10, random_state=0)\n",
    "    kmeans.fit(df)\n",
    "    wcss.append(kmeans.inertia_)\n",
    "    label = kmeans.fit_predict(df)\n",
    "    kmeans_silhouette = silhouette_score(df, label)\n",
    "    sh_score.append(kmeans_silhouette)\n",
    "    print(\"Overall Average Silhouette Score:{:.4f} for {} clusters\".format(kmeans_silhouette, i))\n",
    "    \n",
    "print(\"\")\n",
    "plt.plot(range(2, 17), sh_score)\n",
    "plt.title('Silhoutte Scores by number of clusters')\n",
    "plt.xlabel('Number of clusters')\n",
    "plt.ylabel('Silhoutte Scores')\n",
    "plt.show()"
   ]
  },
  {
   "cell_type": "code",
   "execution_count": 29,
   "id": "214AckqBVkXu",
   "metadata": {
    "colab": {
     "base_uri": "https://localhost:8080/",
     "height": 325
    },
    "executionInfo": {
     "elapsed": 324,
     "status": "ok",
     "timestamp": 1670095090844,
     "user": {
      "displayName": "Joram Mutenge",
      "userId": "01047124174484898745"
     },
     "user_tz": 360
    },
    "id": "214AckqBVkXu",
    "outputId": "5e6756b7-e1d5-4cb5-831b-86adde136f71"
   },
   "outputs": [
    {
     "data": {
      "image/png": "[encoded data removed]",
      "text/plain": [
       "<Figure size 640x480 with 1 Axes>"
      ]
     },
     "metadata": {},
     "output_type": "display_data"
    }
   ],
   "source": [
    "plt.plot(range(2, 11), wcss[:9])\n",
    "plt.title('Scree plot (Elbow Method)')\n",
    "plt.xlabel('Number of clusters')\n",
    "plt.ylabel('WCSS')\n",
    "plt.show()"
   ]
  },
  {
   "cell_type": "markdown",
   "id": "mr_hpo4CxTMX",
   "metadata": {
    "id": "mr_hpo4CxTMX"
   },
   "source": [
    "We decided to select 3 clusters."
   ]
  },
  {
   "cell_type": "code",
   "execution_count": 30,
   "id": "xcMD50T8XWxY",
   "metadata": {
    "executionInfo": {
     "elapsed": 384,
     "status": "ok",
     "timestamp": 1670095093595,
     "user": {
      "displayName": "Joram Mutenge",
      "userId": "01047124174484898745"
     },
     "user_tz": 360
    },
    "id": "xcMD50T8XWxY"
   },
   "outputs": [],
   "source": [
    "kmeans = KMeans(n_clusters=3, init='k-means++', max_iter=300, n_init=10, random_state=0)\n",
    "pred_y = kmeans.fit_predict(df)\n",
    "centroids = kmeans.cluster_centers_"
   ]
  },
  {
   "cell_type": "code",
   "execution_count": 31,
   "id": "SKSMoVGrdAaJ",
   "metadata": {
    "colab": {
     "base_uri": "https://localhost:8080/"
    },
    "executionInfo": {
     "elapsed": 13,
     "status": "ok",
     "timestamp": 1670095094925,
     "user": {
      "displayName": "Joram Mutenge",
      "userId": "01047124174484898745"
     },
     "user_tz": 360
    },
    "id": "SKSMoVGrdAaJ",
    "outputId": "80e2340a-5f43-4794-9071-0b32c2d59d99"
   },
   "outputs": [
    {
     "name": "stdout",
     "output_type": "stream",
     "text": [
      "Cluster Centroid Values:\n",
      "[[7.00582524e+00 3.13724272e+02 3.19130097e+02 5.89048544e+01\n",
      "  4.69902913e-01 6.54368932e-01 5.35003029e+04 3.16815534e+00\n",
      "  3.10679612e-02 0.00000000e+00 9.68932039e-01 9.51456311e-01\n",
      "  4.85436893e-02 6.77669903e-01 3.22330097e-01]\n",
      " [1.25714286e+01 7.86285714e+02 8.77714286e+01 5.66857143e+01\n",
      "  3.68571429e+00 6.14285714e-01 2.23942114e+05 2.51428571e+00\n",
      "  1.42857143e-01 1.57142857e-01 7.00000000e-01 8.14285714e-01\n",
      "  1.85714286e-01 8.42857143e-01 1.57142857e-01]\n",
      " [1.01479100e+01 5.49041801e+02 1.05363344e+02 6.01929260e+01\n",
      "  1.84565916e+00 7.71704180e-01 1.14918322e+05 2.77459807e+00\n",
      "  3.21543408e-02 5.46623794e-02 9.13183280e-01 7.90996785e-01\n",
      "  2.09003215e-01 6.36655949e-01 3.63344051e-01]]\n"
     ]
    }
   ],
   "source": [
    "print(\"Cluster Centroid Values:\")\n",
    "print(centroids)"
   ]
  },
  {
   "cell_type": "code",
   "execution_count": 32,
   "id": "T4TMuZ1AdEzh",
   "metadata": {
    "colab": {
     "base_uri": "https://localhost:8080/",
     "height": 304
    },
    "executionInfo": {
     "elapsed": 391,
     "status": "ok",
     "timestamp": 1670095096853,
     "user": {
      "displayName": "Joram Mutenge",
      "userId": "01047124174484898745"
     },
     "user_tz": 360
    },
    "id": "T4TMuZ1AdEzh",
    "outputId": "1a89b9e4-7834-42ec-eee2-cfd2957597ca"
   },
   "outputs": [
    {
     "data": {
      "image/png": "[encoded data removed]",
      "text/plain": [
       "<Figure size 640x480 with 1 Axes>"
      ]
     },
     "metadata": {},
     "output_type": "display_data"
    }
   ],
   "source": [
    "plt.scatter(df['ram'], df['price'], c= kmeans.labels_.astype(float), s=50, alpha=0.5)\n",
    "plt.scatter(centroids[:, 0], centroids[:, 6], c='red', s=50)\n",
    "plt.xlabel('ram')\n",
    "plt.ylabel('price')\n",
    "plt.show()"
   ]
  },
  {
   "cell_type": "code",
   "execution_count": 33,
   "id": "AJ2FVEabQveS",
   "metadata": {
    "colab": {
     "base_uri": "https://localhost:8080/",
     "height": 304
    },
    "executionInfo": {
     "elapsed": 328,
     "status": "ok",
     "timestamp": 1670095099035,
     "user": {
      "displayName": "Joram Mutenge",
      "userId": "01047124174484898745"
     },
     "user_tz": 360
    },
    "id": "AJ2FVEabQveS",
    "outputId": "760317d1-7b4d-41bf-bae7-f209fa2dcd9b"
   },
   "outputs": [
    {
     "data": {
      "image/png": "[encoded data removed]",
      "text/plain": [
       "<Figure size 640x480 with 1 Axes>"
      ]
     },
     "metadata": {},
     "output_type": "display_data"
    }
   ],
   "source": [
    "plt.scatter(df['graphic_card_gb'], df['price'], c= kmeans.labels_.astype(float), s=50, alpha=0.5)\n",
    "plt.scatter(centroids[:, 4], centroids[:, 6], c='red', s=50)\n",
    "plt.xlabel('graphic_card_gb')\n",
    "plt.ylabel('price')\n",
    "plt.show()"
   ]
  },
  {
   "cell_type": "code",
   "execution_count": 33,
   "id": "VUWW2cxmf2Wc",
   "metadata": {
    "executionInfo": {
     "elapsed": 312,
     "status": "ok",
     "timestamp": 1670095103836,
     "user": {
      "displayName": "Joram Mutenge",
      "userId": "01047124174484898745"
     },
     "user_tz": 360
    },
    "id": "VUWW2cxmf2Wc"
   },
   "outputs": [],
   "source": []
  }
 ],
 "metadata": {
  "colab": {
   "provenance": []
  },
  "kernelspec": {
   "display_name": "Python 3 (ipykernel)",
   "language": "python",
   "name": "python3"
  },
  "language_info": {
   "codemirror_mode": {
    "name": "ipython",
    "version": 3
   },
   "file_extension": ".py",
   "mimetype": "text/x-python",
   "name": "python",
   "nbconvert_exporter": "python",
   "pygments_lexer": "ipython3",
   "version": "3.10.8"
  }
 },
 "nbformat": 4,
 "nbformat_minor": 5
}
